{
 "cells": [
  {
   "cell_type": "markdown",
   "metadata": {},
   "source": [
    "<B><H2> HOUSE PRICE ESTIMATOR </H2></B><H5>TENSORFLOW REGRESSION SEQUENTIAL DNN MODEL</H5>\n"
   ]
  },
  {
   "cell_type": "code",
   "execution_count": 1,
   "metadata": {},
   "outputs": [],
   "source": [
    "import os\n",
    "os.environ['TF_CPP_MIN_LOG_LEVEL']='2'\n",
    "\n",
    "import docker\n",
    "import requests\n",
    "import json\n",
    "import numpy as np\n",
    "import pandas as pd\n",
    "\n",
    "\n",
    "\n",
    "#TENSORFLOW API\n",
    "import tensorflow as tf\n",
    "import tensorflow_data_validation as tfdv\n",
    "# Feature Engineering\n",
    "from tensorflow import feature_column as fc\n",
    "from keras.models import Sequential\n",
    "from keras import layers\n",
    "from keras import utils\n",
    "# TF Dataset for input pipeline\n",
    "import tensorflow_datasets as tfds\n",
    "# If using GPU use the below config\n",
    "# physical_devices = tf.config.list_physical_devices('GPU')\n",
    "# tf.config.experimental.set_memory_growth(physical_devices[0],True)\n",
    "\n",
    "# VISUALISATION API\n",
    "import matplotlib.pyplot as plt\n",
    "import seaborn as sns # Seaborn is a Python data visualization library based on matplotlib.\n",
    "\n",
    "# Import train_test_split function from sklearn.model_selection\n",
    "from sklearn.model_selection import train_test_split\n",
    "\n",
    "# Used to calculate stats such as Z score, standard deviation & Perform BoxCox Transformations etc.\n",
    "from scipy import stats\n",
    "from scipy import special\n",
    "# Used to calculate MSE\n",
    "from sklearn.metrics import mean_squared_error\n",
    "\n",
    "city_list = [\"Melbourne\", \"Sydney\",\"Brisbane\",\"Perth\",\"Adelaide\",\"Hobart\"]\n",
    "city = city_list[0]"
   ]
  },
  {
   "cell_type": "markdown",
   "metadata": {},
   "source": [
    "<H5> READ THE DATA INTO PANDAS DATAFRAME.</H5> Remove any NULL values"
   ]
  },
  {
   "cell_type": "code",
   "execution_count": 2,
   "metadata": {},
   "outputs": [
    {
     "data": {
      "text/html": [
       "<div>\n",
       "<style scoped>\n",
       "    .dataframe tbody tr th:only-of-type {\n",
       "        vertical-align: middle;\n",
       "    }\n",
       "\n",
       "    .dataframe tbody tr th {\n",
       "        vertical-align: top;\n",
       "    }\n",
       "\n",
       "    .dataframe thead th {\n",
       "        text-align: right;\n",
       "    }\n",
       "</style>\n",
       "<table border=\"1\" class=\"dataframe\">\n",
       "  <thead>\n",
       "    <tr style=\"text-align: right;\">\n",
       "      <th></th>\n",
       "      <th>Street</th>\n",
       "      <th>Address</th>\n",
       "      <th>Suburb</th>\n",
       "      <th>State</th>\n",
       "      <th>Postcode</th>\n",
       "      <th>Type</th>\n",
       "      <th>Date</th>\n",
       "      <th>Method</th>\n",
       "      <th>Price</th>\n",
       "      <th>Bedrooms</th>\n",
       "      <th>Bathrooms</th>\n",
       "      <th>Cars</th>\n",
       "      <th>Area</th>\n",
       "      <th>Agent</th>\n",
       "      <th>Latitude</th>\n",
       "      <th>Longitude</th>\n",
       "      <th>Distance</th>\n",
       "    </tr>\n",
       "  </thead>\n",
       "  <tbody>\n",
       "    <tr>\n",
       "      <th>0</th>\n",
       "      <td>6 Clifton Street</td>\n",
       "      <td>ABERFELDIE VIC 3040</td>\n",
       "      <td>ABERFELDIE</td>\n",
       "      <td>VIC</td>\n",
       "      <td>3040</td>\n",
       "      <td>House</td>\n",
       "      <td>25-Jun-22</td>\n",
       "      <td>private treaty</td>\n",
       "      <td>1810000</td>\n",
       "      <td>4</td>\n",
       "      <td>2</td>\n",
       "      <td>3</td>\n",
       "      <td>535</td>\n",
       "      <td>MATTHEWS.</td>\n",
       "      <td>-37.761302</td>\n",
       "      <td>144.891030</td>\n",
       "      <td>8.651315</td>\n",
       "    </tr>\n",
       "    <tr>\n",
       "      <th>1</th>\n",
       "      <td>14 Batman Street</td>\n",
       "      <td>ABERFELDIE VIC 3040</td>\n",
       "      <td>ABERFELDIE</td>\n",
       "      <td>VIC</td>\n",
       "      <td>3040</td>\n",
       "      <td>House</td>\n",
       "      <td>21-May-22</td>\n",
       "      <td>auction</td>\n",
       "      <td>2101000</td>\n",
       "      <td>4</td>\n",
       "      <td>3</td>\n",
       "      <td>2</td>\n",
       "      <td>650</td>\n",
       "      <td>Woodards Ascot Vale</td>\n",
       "      <td>-37.755418</td>\n",
       "      <td>144.893808</td>\n",
       "      <td>8.941133</td>\n",
       "    </tr>\n",
       "    <tr>\n",
       "      <th>2</th>\n",
       "      <td>12 Batman Street</td>\n",
       "      <td>ABERFELDIE VIC 3040</td>\n",
       "      <td>ABERFELDIE</td>\n",
       "      <td>VIC</td>\n",
       "      <td>3040</td>\n",
       "      <td>House</td>\n",
       "      <td>9-Apr-22</td>\n",
       "      <td>auction</td>\n",
       "      <td>1900000</td>\n",
       "      <td>4</td>\n",
       "      <td>2</td>\n",
       "      <td>2</td>\n",
       "      <td>650</td>\n",
       "      <td>Nelson Alexander Essendon</td>\n",
       "      <td>-37.755418</td>\n",
       "      <td>144.893808</td>\n",
       "      <td>8.941133</td>\n",
       "    </tr>\n",
       "    <tr>\n",
       "      <th>3</th>\n",
       "      <td>24 Clifton Street</td>\n",
       "      <td>ABERFELDIE VIC 3040</td>\n",
       "      <td>ABERFELDIE</td>\n",
       "      <td>VIC</td>\n",
       "      <td>3040</td>\n",
       "      <td>House</td>\n",
       "      <td>1-Apr-22</td>\n",
       "      <td>auction</td>\n",
       "      <td>2000000</td>\n",
       "      <td>3</td>\n",
       "      <td>2</td>\n",
       "      <td>5</td>\n",
       "      <td>640</td>\n",
       "      <td>Barry Plant Essendon</td>\n",
       "      <td>-37.761302</td>\n",
       "      <td>144.891030</td>\n",
       "      <td>8.651315</td>\n",
       "    </tr>\n",
       "    <tr>\n",
       "      <th>4</th>\n",
       "      <td>34 Caroline Street</td>\n",
       "      <td>ABERFELDIE VIC 3040</td>\n",
       "      <td>ABERFELDIE</td>\n",
       "      <td>VIC</td>\n",
       "      <td>3040</td>\n",
       "      <td>House</td>\n",
       "      <td>26-Mar-22</td>\n",
       "      <td>auction</td>\n",
       "      <td>2981000</td>\n",
       "      <td>4</td>\n",
       "      <td>3</td>\n",
       "      <td>3</td>\n",
       "      <td>1017</td>\n",
       "      <td>Ray White Sunbury Pty Ltd</td>\n",
       "      <td>-37.759417</td>\n",
       "      <td>144.892162</td>\n",
       "      <td>8.723874</td>\n",
       "    </tr>\n",
       "    <tr>\n",
       "      <th>5</th>\n",
       "      <td>3 Beatrice Avenue</td>\n",
       "      <td>ABERFELDIE VIC 3040</td>\n",
       "      <td>ABERFELDIE</td>\n",
       "      <td>VIC</td>\n",
       "      <td>3040</td>\n",
       "      <td>House</td>\n",
       "      <td>15-Mar-22</td>\n",
       "      <td>private treaty</td>\n",
       "      <td>2540000</td>\n",
       "      <td>5</td>\n",
       "      <td>4</td>\n",
       "      <td>4</td>\n",
       "      <td>613</td>\n",
       "      <td>Jellis Craig Moonee Valley</td>\n",
       "      <td>-37.753983</td>\n",
       "      <td>144.889504</td>\n",
       "      <td>9.317378</td>\n",
       "    </tr>\n",
       "    <tr>\n",
       "      <th>6</th>\n",
       "      <td>1 Vida Street</td>\n",
       "      <td>ABERFELDIE VIC 3040</td>\n",
       "      <td>ABERFELDIE</td>\n",
       "      <td>VIC</td>\n",
       "      <td>3040</td>\n",
       "      <td>House</td>\n",
       "      <td>4-Mar-22</td>\n",
       "      <td>private treaty</td>\n",
       "      <td>1855000</td>\n",
       "      <td>4</td>\n",
       "      <td>2</td>\n",
       "      <td>2</td>\n",
       "      <td>569</td>\n",
       "      <td>McDonald Upton</td>\n",
       "      <td>-37.755976</td>\n",
       "      <td>144.898742</td>\n",
       "      <td>8.604382</td>\n",
       "    </tr>\n",
       "    <tr>\n",
       "      <th>7</th>\n",
       "      <td>37 Clifton Street</td>\n",
       "      <td>ABERFELDIE VIC 3040</td>\n",
       "      <td>ABERFELDIE</td>\n",
       "      <td>VIC</td>\n",
       "      <td>3040</td>\n",
       "      <td>House</td>\n",
       "      <td>19-Feb-22</td>\n",
       "      <td>auction</td>\n",
       "      <td>1945000</td>\n",
       "      <td>4</td>\n",
       "      <td>3</td>\n",
       "      <td>2</td>\n",
       "      <td>810</td>\n",
       "      <td>Barry Plant Essendon</td>\n",
       "      <td>-37.761302</td>\n",
       "      <td>144.891030</td>\n",
       "      <td>8.651315</td>\n",
       "    </tr>\n",
       "    <tr>\n",
       "      <th>8</th>\n",
       "      <td>104 Fawkner Street</td>\n",
       "      <td>ABERFELDIE VIC 3040</td>\n",
       "      <td>ABERFELDIE</td>\n",
       "      <td>VIC</td>\n",
       "      <td>3040</td>\n",
       "      <td>House</td>\n",
       "      <td>19-Feb-22</td>\n",
       "      <td>auction</td>\n",
       "      <td>2007000</td>\n",
       "      <td>3</td>\n",
       "      <td>2</td>\n",
       "      <td>1</td>\n",
       "      <td>481</td>\n",
       "      <td>Barry Plant Essendon</td>\n",
       "      <td>-37.757372</td>\n",
       "      <td>144.896145</td>\n",
       "      <td>8.641993</td>\n",
       "    </tr>\n",
       "    <tr>\n",
       "      <th>9</th>\n",
       "      <td>5 Muldowney Street</td>\n",
       "      <td>ABERFELDIE VIC 3040</td>\n",
       "      <td>ABERFELDIE</td>\n",
       "      <td>VIC</td>\n",
       "      <td>3040</td>\n",
       "      <td>House</td>\n",
       "      <td>5-Feb-22</td>\n",
       "      <td>auction</td>\n",
       "      <td>2501000</td>\n",
       "      <td>4</td>\n",
       "      <td>2</td>\n",
       "      <td>3</td>\n",
       "      <td>482</td>\n",
       "      <td>Nelson Alexander Essendon</td>\n",
       "      <td>-37.758229</td>\n",
       "      <td>144.896914</td>\n",
       "      <td>8.526209</td>\n",
       "    </tr>\n",
       "  </tbody>\n",
       "</table>\n",
       "</div>"
      ],
      "text/plain": [
       "                Street              Address      Suburb State  Postcode  \\\n",
       "0    6 Clifton Street   ABERFELDIE VIC 3040  ABERFELDIE   VIC      3040   \n",
       "1    14 Batman Street   ABERFELDIE VIC 3040  ABERFELDIE   VIC      3040   \n",
       "2    12 Batman Street   ABERFELDIE VIC 3040  ABERFELDIE   VIC      3040   \n",
       "3   24 Clifton Street   ABERFELDIE VIC 3040  ABERFELDIE   VIC      3040   \n",
       "4  34 Caroline Street   ABERFELDIE VIC 3040  ABERFELDIE   VIC      3040   \n",
       "5   3 Beatrice Avenue   ABERFELDIE VIC 3040  ABERFELDIE   VIC      3040   \n",
       "6       1 Vida Street   ABERFELDIE VIC 3040  ABERFELDIE   VIC      3040   \n",
       "7   37 Clifton Street   ABERFELDIE VIC 3040  ABERFELDIE   VIC      3040   \n",
       "8  104 Fawkner Street   ABERFELDIE VIC 3040  ABERFELDIE   VIC      3040   \n",
       "9  5 Muldowney Street   ABERFELDIE VIC 3040  ABERFELDIE   VIC      3040   \n",
       "\n",
       "    Type       Date          Method    Price  Bedrooms  Bathrooms  Cars  Area  \\\n",
       "0  House  25-Jun-22  private treaty  1810000         4          2     3   535   \n",
       "1  House  21-May-22         auction  2101000         4          3     2   650   \n",
       "2  House   9-Apr-22         auction  1900000         4          2     2   650   \n",
       "3  House   1-Apr-22         auction  2000000         3          2     5   640   \n",
       "4  House  26-Mar-22         auction  2981000         4          3     3  1017   \n",
       "5  House  15-Mar-22  private treaty  2540000         5          4     4   613   \n",
       "6  House   4-Mar-22  private treaty  1855000         4          2     2   569   \n",
       "7  House  19-Feb-22         auction  1945000         4          3     2   810   \n",
       "8  House  19-Feb-22         auction  2007000         3          2     1   481   \n",
       "9  House   5-Feb-22         auction  2501000         4          2     3   482   \n",
       "\n",
       "                        Agent   Latitude   Longitude  Distance  \n",
       "0                   MATTHEWS. -37.761302  144.891030  8.651315  \n",
       "1         Woodards Ascot Vale -37.755418  144.893808  8.941133  \n",
       "2   Nelson Alexander Essendon -37.755418  144.893808  8.941133  \n",
       "3        Barry Plant Essendon -37.761302  144.891030  8.651315  \n",
       "4   Ray White Sunbury Pty Ltd -37.759417  144.892162  8.723874  \n",
       "5  Jellis Craig Moonee Valley -37.753983  144.889504  9.317378  \n",
       "6              McDonald Upton -37.755976  144.898742  8.604382  \n",
       "7        Barry Plant Essendon -37.761302  144.891030  8.651315  \n",
       "8        Barry Plant Essendon -37.757372  144.896145  8.641993  \n",
       "9   Nelson Alexander Essendon -37.758229  144.896914  8.526209  "
      ]
     },
     "execution_count": 2,
     "metadata": {},
     "output_type": "execute_result"
    }
   ],
   "source": [
    "# Import data from CSV into pandas DF\n",
    "df= pd.read_csv(f\"data/{city}/{city}_area.csv\")\n",
    "# Check if there any NULL or NaN values\n",
    "df.isnull().sum()\n",
    "# Drop any NA values\n",
    "df = df.dropna(how='any',axis=0)\n",
    "# Check that there is no longer Null values\n",
    "df.isnull().sum()\n",
    "# Look at DF to get a feel of data\n",
    "df.head(10)"
   ]
  },
  {
   "cell_type": "markdown",
   "metadata": {},
   "source": [
    "<H3> <B> EXPLORATORY DATA ANALYSIS (EDA) </B></H3>"
   ]
  },
  {
   "cell_type": "markdown",
   "metadata": {},
   "source": [
    "Explore Data statistics using Pandas"
   ]
  },
  {
   "cell_type": "code",
   "execution_count": null,
   "metadata": {},
   "outputs": [],
   "source": [
    "df.describe()"
   ]
  },
  {
   "cell_type": "markdown",
   "metadata": {},
   "source": [
    "Explore Data Types using Pandas"
   ]
  },
  {
   "cell_type": "code",
   "execution_count": 3,
   "metadata": {},
   "outputs": [
    {
     "name": "stdout",
     "output_type": "stream",
     "text": [
      "<class 'pandas.core.frame.DataFrame'>\n",
      "RangeIndex: 117520 entries, 0 to 117519\n",
      "Data columns (total 17 columns):\n",
      " #   Column     Non-Null Count   Dtype  \n",
      "---  ------     --------------   -----  \n",
      " 0   Street     117520 non-null  object \n",
      " 1   Address    117520 non-null  object \n",
      " 2   Suburb     117520 non-null  object \n",
      " 3   State      117520 non-null  object \n",
      " 4   Postcode   117520 non-null  int64  \n",
      " 5   Type       117520 non-null  object \n",
      " 6   Date       117520 non-null  object \n",
      " 7   Method     117520 non-null  object \n",
      " 8   Price      117520 non-null  int64  \n",
      " 9   Bedrooms   117520 non-null  int64  \n",
      " 10  Bathrooms  117520 non-null  int64  \n",
      " 11  Cars       117520 non-null  int64  \n",
      " 12  Area       117520 non-null  int64  \n",
      " 13  Agent      117520 non-null  object \n",
      " 14  Latitude   117520 non-null  float64\n",
      " 15  Longitude  117520 non-null  float64\n",
      " 16  Distance   117520 non-null  float64\n",
      "dtypes: float64(3), int64(6), object(8)\n",
      "memory usage: 15.2+ MB\n"
     ]
    }
   ],
   "source": [
    "df.info()"
   ]
  },
  {
   "cell_type": "markdown",
   "metadata": {},
   "source": [
    "Explore Data statistics ,schema & types using TensorFlow Data Validation (TFDV)"
   ]
  },
  {
   "cell_type": "code",
   "execution_count": null,
   "metadata": {},
   "outputs": [],
   "source": [
    "data = tfdv.generate_statistics_from_csv(f\"data/{city}/{city}_area.csv\")\n",
    "tfdv.visualize_statistics(data)\n",
    "schema = tfdv.infer_schema(statistics=data)\n",
    "tfdv.display_schema(schema=schema)\n",
    "# Check eval data for errors by validating the eval data stats using the previously inferred schema.\n",
    "anomalies = tfdv.validate_statistics(statistics=data, schema=schema)\n",
    "tfdv.display_anomalies(anomalies)"
   ]
  },
  {
   "cell_type": "markdown",
   "metadata": {},
   "source": [
    "Categorise fields into CATEGORICAL,NUMERICAL & to be DROPPED"
   ]
  },
  {
   "cell_type": "code",
   "execution_count": 4,
   "metadata": {},
   "outputs": [],
   "source": [
    "# Above there is a combination of categorical & numerical features with 'Price' being the label. We will need to classify the \n",
    "# features into the following:\n",
    "num_feat = ['Bedrooms','Bathrooms','Cars','Area','Latitude','Longitude','Distance','Price','Date']\n",
    "cat_feat = ['Suburb','Type','Method']\n",
    "drop_feat = ['Street','Address','State','Postcode','Agent']\n",
    "\n",
    "# Drop features that are not required\n",
    "if set(drop_feat).issubset(df.columns):\n",
    "  df = df.drop(drop_feat, axis = 1) "
   ]
  },
  {
   "cell_type": "markdown",
   "metadata": {},
   "source": [
    "Explore Relationships between Numerical Features"
   ]
  },
  {
   "cell_type": "code",
   "execution_count": null,
   "metadata": {},
   "outputs": [],
   "source": [
    "sns.pairplot(data = df[num_feat], height=3,diag_kind='kde')"
   ]
  },
  {
   "cell_type": "markdown",
   "metadata": {},
   "source": [
    "Feature correlation using Heat Map for visualisation & list all features related to Target(Price) prior to any feature engineering or transformation"
   ]
  },
  {
   "cell_type": "code",
   "execution_count": 5,
   "metadata": {},
   "outputs": [
    {
     "data": {
      "text/plain": [
       "Bathrooms    0.10\n",
       "Bedrooms     0.08\n",
       "Cars         0.04\n",
       "Area         0.00\n",
       "Longitude   -0.00\n",
       "Latitude    -0.02\n",
       "Distance    -0.06\n",
       "Name: Price, dtype: float64"
      ]
     },
     "execution_count": 5,
     "metadata": {},
     "output_type": "execute_result"
    },
    {
     "data": {
      "image/png": "[encoded data removed]",
      "text/plain": [
       "<Figure size 432x288 with 2 Axes>"
      ]
     },
     "metadata": {
      "needs_background": "light"
     },
     "output_type": "display_data"
    }
   ],
   "source": [
    "# Heatmap for all the remaining numerical data including the target 'Price'\n",
    "# Define the heatmap parameters\n",
    "pd.options.display.float_format = \"{:,.2f}\".format\n",
    "\n",
    "# Define correlation matrix\n",
    "corr_matrix = df[num_feat].corr()\n",
    "\n",
    "# Replace correlation < |0.3| by 0 for a better visibility\n",
    "corr_matrix[(corr_matrix < 0.3) & (corr_matrix > -0.3)] = 0\n",
    "\n",
    "# plot the heatmap\n",
    "sns.heatmap(corr_matrix, vmax=1.0, vmin=-1.0, linewidths=0.1,\n",
    "            annot_kws={\"size\": 9, \"color\": \"black\"},annot=True)\n",
    "plt.title(\"Price Correlation\")\n",
    "\n",
    "## Lets visualize individually \n",
    "\n",
    "corr =df.corr()[\"Price\"].sort_values(ascending = False)[1:len(num_feat)] ## selecting cols other than Saleprice, LogPrice\n",
    "corr"
   ]
  },
  {
   "cell_type": "markdown",
   "metadata": {},
   "source": [
    "Check Price Distribution"
   ]
  },
  {
   "cell_type": "code",
   "execution_count": null,
   "metadata": {},
   "outputs": [],
   "source": [
    "sns.displot(df['Price'],kde = False)"
   ]
  },
  {
   "cell_type": "markdown",
   "metadata": {},
   "source": [
    "Check Skew of all features"
   ]
  },
  {
   "cell_type": "code",
   "execution_count": 6,
   "metadata": {},
   "outputs": [
    {
     "data": {
      "text/html": [
       "<div>\n",
       "<style scoped>\n",
       "    .dataframe tbody tr th:only-of-type {\n",
       "        vertical-align: middle;\n",
       "    }\n",
       "\n",
       "    .dataframe tbody tr th {\n",
       "        vertical-align: top;\n",
       "    }\n",
       "\n",
       "    .dataframe thead th {\n",
       "        text-align: right;\n",
       "    }\n",
       "</style>\n",
       "<table border=\"1\" class=\"dataframe\">\n",
       "  <thead>\n",
       "    <tr style=\"text-align: right;\">\n",
       "      <th></th>\n",
       "      <th>skew</th>\n",
       "    </tr>\n",
       "  </thead>\n",
       "  <tbody>\n",
       "    <tr>\n",
       "      <th>Price</th>\n",
       "      <td>297.75</td>\n",
       "    </tr>\n",
       "    <tr>\n",
       "      <th>Area</th>\n",
       "      <td>284.71</td>\n",
       "    </tr>\n",
       "    <tr>\n",
       "      <th>Cars</th>\n",
       "      <td>1.65</td>\n",
       "    </tr>\n",
       "    <tr>\n",
       "      <th>Bathrooms</th>\n",
       "      <td>1.15</td>\n",
       "    </tr>\n",
       "    <tr>\n",
       "      <th>Distance</th>\n",
       "      <td>0.82</td>\n",
       "    </tr>\n",
       "    <tr>\n",
       "      <th>Bedrooms</th>\n",
       "      <td>0.49</td>\n",
       "    </tr>\n",
       "    <tr>\n",
       "      <th>Longitude</th>\n",
       "      <td>-0.46</td>\n",
       "    </tr>\n",
       "    <tr>\n",
       "      <th>Latitude</th>\n",
       "      <td>-0.61</td>\n",
       "    </tr>\n",
       "  </tbody>\n",
       "</table>\n",
       "</div>"
      ],
      "text/plain": [
       "            skew\n",
       "Price     297.75\n",
       "Area      284.71\n",
       "Cars        1.65\n",
       "Bathrooms   1.15\n",
       "Distance    0.82\n",
       "Bedrooms    0.49\n",
       "Longitude  -0.46\n",
       "Latitude   -0.61"
      ]
     },
     "execution_count": 6,
     "metadata": {},
     "output_type": "execute_result"
    }
   ],
   "source": [
    "num_feat = df.dtypes[df.dtypes != 'object'].index\n",
    "skew_feats = df[num_feat].skew().sort_values(ascending=False)\n",
    "skewness = pd.DataFrame({'skew': skew_feats})\n",
    "skewness"
   ]
  },
  {
   "cell_type": "markdown",
   "metadata": {},
   "source": [
    "<H3> <B>FEATURE ENGINEERING & TRANSFORMATION </B></H3>"
   ]
  },
  {
   "cell_type": "markdown",
   "metadata": {},
   "source": [
    "1. Crafting new Feature YEAR from DATE\n",
    "2. Crafing new Feature 'LogPrice' from 'Price' to reduce significant skew present in 'Price'\n",
    "3. Transforming Feature 'Area' from 'Price' to reduce significant skew present in 'Price'\n"
   ]
  },
  {
   "cell_type": "code",
   "execution_count": 7,
   "metadata": {},
   "outputs": [
    {
     "name": "stdout",
     "output_type": "stream",
     "text": [
      "Optimal lambda 0.01292558410620058\n"
     ]
    }
   ],
   "source": [
    "df['Date']= df['Date'].astype('datetime64[ns]')\n",
    "df['Year'] = df['Date'].dt.year\n",
    "# df['PricePerSqm'] = df['Price']/df['Area']\n",
    "df['BoxPrice'], lam = stats.boxcox(df['Price'])\n",
    "print('Optimal lambda', lam)\n",
    "\n",
    "\n",
    "#df[\"LogPrice\"] = np.log10(df[\"Price\"])\n",
    "# Added Area after I realised that Area has large skew, hence applying log10 to reduce Skew & make it more Gausian/normal distribution\n",
    "# then applu Z score as it works best on Normal/Gausian Distribution\n",
    "df['LogArea'],lamArea = stats.boxcox(df['Area'])\n",
    "df = df.drop(['Price','Date','Area'], axis = 1)"
   ]
  },
  {
   "cell_type": "markdown",
   "metadata": {},
   "source": [
    "Check Skew/distribution After Transformation"
   ]
  },
  {
   "cell_type": "code",
   "execution_count": 8,
   "metadata": {},
   "outputs": [
    {
     "data": {
      "text/html": [
       "<div>\n",
       "<style scoped>\n",
       "    .dataframe tbody tr th:only-of-type {\n",
       "        vertical-align: middle;\n",
       "    }\n",
       "\n",
       "    .dataframe tbody tr th {\n",
       "        vertical-align: top;\n",
       "    }\n",
       "\n",
       "    .dataframe thead th {\n",
       "        text-align: right;\n",
       "    }\n",
       "</style>\n",
       "<table border=\"1\" class=\"dataframe\">\n",
       "  <thead>\n",
       "    <tr style=\"text-align: right;\">\n",
       "      <th></th>\n",
       "      <th>skew</th>\n",
       "    </tr>\n",
       "  </thead>\n",
       "  <tbody>\n",
       "    <tr>\n",
       "      <th>Cars</th>\n",
       "      <td>1.65</td>\n",
       "    </tr>\n",
       "    <tr>\n",
       "      <th>Bathrooms</th>\n",
       "      <td>1.15</td>\n",
       "    </tr>\n",
       "    <tr>\n",
       "      <th>Distance</th>\n",
       "      <td>0.82</td>\n",
       "    </tr>\n",
       "    <tr>\n",
       "      <th>Bedrooms</th>\n",
       "      <td>0.49</td>\n",
       "    </tr>\n",
       "    <tr>\n",
       "      <th>BoxPrice</th>\n",
       "      <td>0.05</td>\n",
       "    </tr>\n",
       "    <tr>\n",
       "      <th>LogArea</th>\n",
       "      <td>-0.34</td>\n",
       "    </tr>\n",
       "    <tr>\n",
       "      <th>Longitude</th>\n",
       "      <td>-0.46</td>\n",
       "    </tr>\n",
       "    <tr>\n",
       "      <th>Latitude</th>\n",
       "      <td>-0.61</td>\n",
       "    </tr>\n",
       "    <tr>\n",
       "      <th>Year</th>\n",
       "      <td>-0.82</td>\n",
       "    </tr>\n",
       "  </tbody>\n",
       "</table>\n",
       "</div>"
      ],
      "text/plain": [
       "           skew\n",
       "Cars       1.65\n",
       "Bathrooms  1.15\n",
       "Distance   0.82\n",
       "Bedrooms   0.49\n",
       "BoxPrice   0.05\n",
       "LogArea   -0.34\n",
       "Longitude -0.46\n",
       "Latitude  -0.61\n",
       "Year      -0.82"
      ]
     },
     "execution_count": 8,
     "metadata": {},
     "output_type": "execute_result"
    }
   ],
   "source": [
    "num_feat = ['Bedrooms','Bathrooms','Cars','LogArea','Latitude','Longitude','Distance','Year','BoxPrice']\n",
    "#num_feat = df.dtypes[df.dtypes != 'object'].index\n",
    "skew_feats = df[num_feat].skew().sort_values(ascending=False)\n",
    "skewness = pd.DataFrame({'skew': skew_feats})\n",
    "skewness"
   ]
  },
  {
   "cell_type": "markdown",
   "metadata": {},
   "source": [
    "Check Distribution Before & After Transformation"
   ]
  },
  {
   "cell_type": "code",
   "execution_count": null,
   "metadata": {},
   "outputs": [],
   "source": [
    "sns.displot(df['Price'],kde = False)\n",
    "sns.displot(df['BoxPrice'],kde = False)\n",
    "sns.displot(df['Area'],kde = False)\n",
    "sns.displot(df['LogArea'],kde = False)\n"
   ]
  },
  {
   "cell_type": "markdown",
   "metadata": {},
   "source": [
    "<H3> <B> ANOMALY DETECTION & REMOVAL </B></H3>"
   ]
  },
  {
   "cell_type": "markdown",
   "metadata": {},
   "source": [
    "Filter out Outliers using either Z Score Method (normal discribution) or IQR method."
   ]
  },
  {
   "cell_type": "code",
   "execution_count": 9,
   "metadata": {},
   "outputs": [],
   "source": [
    "method = 'Zscore'\n",
    "# Interquartile range (IQR) method should be used for NON normal distribution\n",
    "\n",
    "def remove_outlier(df_in, col_name):\n",
    "    q1 = df_in[col_name].quantile(0.25)\n",
    "    q3 = df_in[col_name].quantile(0.75)\n",
    "    iqr = q3-q1 #Interquartile range\n",
    "    fence_low  = q1-1.5*iqr\n",
    "    fence_high = q3+1.5*iqr\n",
    "    df_out = df_in.loc[(df_in[col_name] > fence_low) & (df_in[col_name] < fence_high)]\n",
    "    return df_out\n",
    "\n",
    "if method == 'Zscore':\n",
    "  #df = df[(np.abs(stats.zscore(df['Price'])) < 3)]\n",
    "  df = df[(np.abs(stats.zscore(df[num_feat])) < 3).all(axis=1)]\n",
    "  \n",
    "else:\n",
    "  df = remove_outlier(df, num_feat)"
   ]
  },
  {
   "cell_type": "markdown",
   "metadata": {},
   "source": [
    "<h4> Explore Data after removing anomalies & using Log10 on Price to reduce skew </H4>\n",
    "Check Skew/Distribution after we have performed BOTH Transformation & Anomaly removal"
   ]
  },
  {
   "cell_type": "code",
   "execution_count": null,
   "metadata": {},
   "outputs": [],
   "source": [
    "#sns.pairplot(data = df[num_feat], height=3,diag_kind='kde')\n",
    "\n",
    "df.describe()\n",
    "\n",
    "num_feat = df.dtypes[df.dtypes != 'object'].index\n",
    "skew_feats = df[num_feat].skew().sort_values(ascending=False)\n",
    "skewness = pd.DataFrame({'skew': skew_feats})\n",
    "skewness"
   ]
  },
  {
   "cell_type": "markdown",
   "metadata": {},
   "source": [
    "Check Correlation after we have performed BOTH Transformation & Anomaly removal"
   ]
  },
  {
   "cell_type": "code",
   "execution_count": 10,
   "metadata": {},
   "outputs": [
    {
     "data": {
      "text/plain": [
       "Bedrooms     0.31\n",
       "Bathrooms    0.30\n",
       "LogArea      0.21\n",
       "Year         0.20\n",
       "Cars         0.15\n",
       "Longitude    0.06\n",
       "Latitude    -0.09\n",
       "Distance    -0.36\n",
       "Name: BoxPrice, dtype: float64"
      ]
     },
     "execution_count": 10,
     "metadata": {},
     "output_type": "execute_result"
    },
    {
     "data": {
      "image/png": "[encoded data removed]",
      "text/plain": [
       "<Figure size 432x288 with 2 Axes>"
      ]
     },
     "metadata": {
      "needs_background": "light"
     },
     "output_type": "display_data"
    }
   ],
   "source": [
    "# Heatmap for all the remaining numerical data including the target 'Price'\n",
    "# Define the heatmap parameters\n",
    "pd.options.display.float_format = \"{:,.2f}\".format\n",
    "# Define correlation matrix\n",
    "corr_matrix = df[num_feat].corr()\n",
    "\n",
    "# Replace correlation < |0.3| by 0 for a better visibility\n",
    "corr_matrix[(corr_matrix < 0.3) & (corr_matrix > -0.3)] = 0\n",
    "\n",
    "# plot the heatmap\n",
    "sns.heatmap(corr_matrix, vmax=1.0, vmin=-1.0, linewidths=0.1,annot_kws={\"size\": 9, \"color\": \"black\"},annot=True)\n",
    "plt.title(\"Price Correlation\")\n",
    "\n",
    "## Lets visualize individually \n",
    "\n",
    "corr =df.corr()[\"BoxPrice\"].sort_values(ascending = False)[1:len(num_feat)] ## selecting cols other than Saleprice, LogPrice\n",
    "corr"
   ]
  },
  {
   "cell_type": "markdown",
   "metadata": {},
   "source": [
    "<H4> Plot of Lattitude & longitude showing pricing in each location</H4>\n",
    "Observe that suburbs closer to the city centre generally are more expensive"
   ]
  },
  {
   "cell_type": "code",
   "execution_count": null,
   "metadata": {},
   "outputs": [],
   "source": [
    "plt.scatter(x = df['Longitude'], y = df['Latitude'],c =df['Price'],alpha=0.8,s=df['Price'],cmap='nipy_spectral' )"
   ]
  },
  {
   "cell_type": "code",
   "execution_count": 11,
   "metadata": {},
   "outputs": [
    {
     "name": "stdout",
     "output_type": "stream",
     "text": [
      "<class 'pandas.core.frame.DataFrame'>\n",
      "Int64Index: 108039 entries, 0 to 117519\n",
      "Data columns (total 12 columns):\n",
      " #   Column     Non-Null Count   Dtype  \n",
      "---  ------     --------------   -----  \n",
      " 0   Suburb     108039 non-null  object \n",
      " 1   Type       108039 non-null  object \n",
      " 2   Method     108039 non-null  object \n",
      " 3   Bedrooms   108039 non-null  int64  \n",
      " 4   Bathrooms  108039 non-null  int64  \n",
      " 5   Cars       108039 non-null  int64  \n",
      " 6   Latitude   108039 non-null  float64\n",
      " 7   Longitude  108039 non-null  float64\n",
      " 8   Distance   108039 non-null  float64\n",
      " 9   Year       108039 non-null  int64  \n",
      " 10  BoxPrice   108039 non-null  float64\n",
      " 11  LogArea    108039 non-null  float64\n",
      "dtypes: float64(5), int64(4), object(3)\n",
      "memory usage: 10.7+ MB\n"
     ]
    }
   ],
   "source": [
    "# df = df.drop(['Price','Date','Area'], axis = 1)\n",
    "num_feat = ['Bedrooms','Bathrooms','Cars','LogArea','Latitude','Longitude','Distance','Year']\n",
    "df.info()"
   ]
  },
  {
   "cell_type": "markdown",
   "metadata": {},
   "source": [
    "Data Splitting into TRAIN,VALIDATION & TEST DF using Scikit Learn function"
   ]
  },
  {
   "cell_type": "code",
   "execution_count": 12,
   "metadata": {},
   "outputs": [
    {
     "name": "stdout",
     "output_type": "stream",
     "text": [
      "69144 train examples\n",
      "17287 validation examples\n",
      "21608 test examples\n"
     ]
    }
   ],
   "source": [
    "# Let's split the dataset into train, validation, and test sets as Pandas DF format\n",
    "train, test = train_test_split(df, test_size=0.2,random_state=1)\n",
    "train, val = train_test_split(train, test_size=0.2,random_state=1)\n",
    "\n",
    "Y_test = test['BoxPrice']\n",
    "\n",
    "print(len(train), 'train examples')\n",
    "print(len(val), 'validation examples')\n",
    "print(len(test), 'test examples')"
   ]
  },
  {
   "cell_type": "markdown",
   "metadata": {},
   "source": [
    "Defining a normalization/scaling function to be used for numerical features"
   ]
  },
  {
   "cell_type": "code",
   "execution_count": 13,
   "metadata": {},
   "outputs": [],
   "source": [
    "# 'get_scal' function takes a list of numerical features and returns a 'minmax' function\n",
    "# 'Minmax' function itself takes a 'numerical' number from a particular feature and return scaled value of that number.\n",
    "# Scalar def get_scal(feature):\n",
    "# TODO 1d\n",
    "def get_scal(feature):\n",
    "    def minmax(x):\n",
    "        mini = train[feature].min()\n",
    "        maxi = train[feature].max()\n",
    "        return (x - mini)/(maxi-mini)\n",
    "        return(minmax)"
   ]
  },
  {
   "cell_type": "markdown",
   "metadata": {},
   "source": [
    "Creating Numerical & Categorical Feature Columns layer with built in normalization for numerical features & One Hot Encoding for Categorical Features"
   ]
  },
  {
   "cell_type": "code",
   "execution_count": 14,
   "metadata": {},
   "outputs": [],
   "source": [
    "feature_columns = []\n",
    "\n",
    "# Numeric columns with Normalization\n",
    "for header in num_feat:\n",
    "    scal_input_fn = get_scal(header)\n",
    "    feature_columns.append(fc.numeric_column(header,normalizer_fn=scal_input_fn))\n",
    "\n",
    "# Categorical features with One Hot Encoding\n",
    "Type = fc.categorical_column_with_vocabulary_list('Type', df.Type.unique())\n",
    "Type_ohe = fc.indicator_column(Type)\n",
    "feature_columns.append(Type_ohe)\n",
    "\n",
    "Method = fc.categorical_column_with_vocabulary_list('Method', df.Method.unique())\n",
    "Method_ohe = fc.indicator_column(Method)\n",
    "feature_columns.append(Method_ohe)\n",
    "\n",
    "\n",
    "# Embedding categorical column with MANY unique values\n",
    "Suburb = fc.categorical_column_with_vocabulary_list('Suburb', df.Suburb.unique())\n",
    "# Commented out below & replaced with Suburb_ohe instead\n",
    "# Suburb_embedded = fc.embedding_column(Suburb, dimension=len(df.Suburb.unique()))\n",
    "Suburb_ohe = fc.indicator_column(Suburb)\n",
    "feature_columns.append(Suburb_ohe)"
   ]
  },
  {
   "cell_type": "markdown",
   "metadata": {},
   "source": [
    "Converting Pandas Dataframes into Batched Tensor Data Sets for interoperability with Feature Columns"
   ]
  },
  {
   "cell_type": "code",
   "execution_count": 16,
   "metadata": {},
   "outputs": [],
   "source": [
    "def df_to_dataset(dataframe, shuffle=True, batch_size=32):\n",
    "  dataframe = dataframe.copy()\n",
    "  labels = dataframe.pop('BoxPrice')\n",
    "  ds = tf.data.Dataset.from_tensor_slices((dict(dataframe), labels))\n",
    "  if shuffle:\n",
    "    ds = ds.shuffle(buffer_size=len(dataframe))\n",
    "  ds = ds.batch(batch_size)\n",
    "  return ds\n",
    "\n",
    "\n",
    "batch_size = 32 # A small batch sized is used for demonstration purposes\n",
    "train_ds = df_to_dataset(train, batch_size=batch_size)\n",
    "val_ds = df_to_dataset(val, shuffle=False, batch_size=batch_size)\n",
    "test_ds = df_to_dataset(test, shuffle=False, batch_size=batch_size)"
   ]
  },
  {
   "cell_type": "markdown",
   "metadata": {},
   "source": [
    "<h3> Defining, Building & Training a Tensorflow Sequential Regression DNN model.</h3>"
   ]
  },
  {
   "cell_type": "code",
   "execution_count": 17,
   "metadata": {},
   "outputs": [
    {
     "name": "stdout",
     "output_type": "stream",
     "text": [
      "Epoch 1/20\n",
      "WARNING:tensorflow:Layers in a Sequential model should only have a single input tensor. Received: inputs={'Suburb': <tf.Tensor 'IteratorGetNext:8' shape=(None,) dtype=string>, 'Type': <tf.Tensor 'IteratorGetNext:9' shape=(None,) dtype=string>, 'Method': <tf.Tensor 'IteratorGetNext:7' shape=(None,) dtype=string>, 'Bedrooms': <tf.Tensor 'IteratorGetNext:1' shape=(None,) dtype=int64>, 'Bathrooms': <tf.Tensor 'IteratorGetNext:0' shape=(None,) dtype=int64>, 'Cars': <tf.Tensor 'IteratorGetNext:2' shape=(None,) dtype=int64>, 'Latitude': <tf.Tensor 'IteratorGetNext:4' shape=(None,) dtype=float64>, 'Longitude': <tf.Tensor 'IteratorGetNext:6' shape=(None,) dtype=float64>, 'Distance': <tf.Tensor 'IteratorGetNext:3' shape=(None,) dtype=float64>, 'Year': <tf.Tensor 'IteratorGetNext:10' shape=(None,) dtype=int64>, 'LogArea': <tf.Tensor 'IteratorGetNext:5' shape=(None,) dtype=float64>}. Consider rewriting this model with the Functional API.\n",
      "WARNING:tensorflow:Layers in a Sequential model should only have a single input tensor. Received: inputs={'Suburb': <tf.Tensor 'IteratorGetNext:8' shape=(None,) dtype=string>, 'Type': <tf.Tensor 'IteratorGetNext:9' shape=(None,) dtype=string>, 'Method': <tf.Tensor 'IteratorGetNext:7' shape=(None,) dtype=string>, 'Bedrooms': <tf.Tensor 'IteratorGetNext:1' shape=(None,) dtype=int64>, 'Bathrooms': <tf.Tensor 'IteratorGetNext:0' shape=(None,) dtype=int64>, 'Cars': <tf.Tensor 'IteratorGetNext:2' shape=(None,) dtype=int64>, 'Latitude': <tf.Tensor 'IteratorGetNext:4' shape=(None,) dtype=float64>, 'Longitude': <tf.Tensor 'IteratorGetNext:6' shape=(None,) dtype=float64>, 'Distance': <tf.Tensor 'IteratorGetNext:3' shape=(None,) dtype=float64>, 'Year': <tf.Tensor 'IteratorGetNext:10' shape=(None,) dtype=int64>, 'LogArea': <tf.Tensor 'IteratorGetNext:5' shape=(None,) dtype=float64>}. Consider rewriting this model with the Functional API.\n",
      "2154/2161 [============================>.] - ETA: 0s - loss: 19.9730 - mse: 19.9730WARNING:tensorflow:Layers in a Sequential model should only have a single input tensor. Received: inputs={'Suburb': <tf.Tensor 'IteratorGetNext:8' shape=(None,) dtype=string>, 'Type': <tf.Tensor 'IteratorGetNext:9' shape=(None,) dtype=string>, 'Method': <tf.Tensor 'IteratorGetNext:7' shape=(None,) dtype=string>, 'Bedrooms': <tf.Tensor 'IteratorGetNext:1' shape=(None,) dtype=int64>, 'Bathrooms': <tf.Tensor 'IteratorGetNext:0' shape=(None,) dtype=int64>, 'Cars': <tf.Tensor 'IteratorGetNext:2' shape=(None,) dtype=int64>, 'Latitude': <tf.Tensor 'IteratorGetNext:4' shape=(None,) dtype=float64>, 'Longitude': <tf.Tensor 'IteratorGetNext:6' shape=(None,) dtype=float64>, 'Distance': <tf.Tensor 'IteratorGetNext:3' shape=(None,) dtype=float64>, 'Year': <tf.Tensor 'IteratorGetNext:10' shape=(None,) dtype=int64>, 'LogArea': <tf.Tensor 'IteratorGetNext:5' shape=(None,) dtype=float64>}. Consider rewriting this model with the Functional API.\n",
      "2161/2161 [==============================] - 15s 6ms/step - loss: 19.9110 - mse: 19.9110 - val_loss: 0.1807 - val_mse: 0.1807\n",
      "Epoch 2/20\n",
      "2161/2161 [==============================] - 27s 12ms/step - loss: 1.2645 - mse: 1.2645 - val_loss: 1.2663 - val_mse: 1.2663\n",
      "Epoch 3/20\n",
      "2161/2161 [==============================] - 28s 13ms/step - loss: 1.9760 - mse: 1.9760 - val_loss: 0.1202 - val_mse: 0.1202\n",
      "Epoch 4/20\n",
      "2161/2161 [==============================] - 31s 14ms/step - loss: 0.5061 - mse: 0.5061 - val_loss: 0.2452 - val_mse: 0.2452\n",
      "Epoch 5/20\n",
      "2161/2161 [==============================] - 28s 13ms/step - loss: 1.2635 - mse: 1.2635 - val_loss: 0.0999 - val_mse: 0.0999\n",
      "Epoch 6/20\n",
      "2161/2161 [==============================] - 29s 13ms/step - loss: 0.1853 - mse: 0.1853 - val_loss: 0.0927 - val_mse: 0.0927\n",
      "Epoch 7/20\n",
      "2161/2161 [==============================] - 28s 13ms/step - loss: 0.2850 - mse: 0.2850 - val_loss: 0.1221 - val_mse: 0.1221\n",
      "Epoch 8/20\n",
      "2161/2161 [==============================] - 27s 12ms/step - loss: 0.2199 - mse: 0.2199 - val_loss: 0.4836 - val_mse: 0.4836\n",
      "Epoch 9/20\n",
      "2161/2161 [==============================] - 30s 13ms/step - loss: 0.1652 - mse: 0.1652 - val_loss: 0.5070 - val_mse: 0.5070\n",
      "Epoch 10/20\n",
      "2161/2161 [==============================] - 34s 14ms/step - loss: 0.1571 - mse: 0.1571 - val_loss: 0.0861 - val_mse: 0.0861\n",
      "Epoch 11/20\n",
      "2161/2161 [==============================] - 28s 13ms/step - loss: 0.1473 - mse: 0.1473 - val_loss: 0.2759 - val_mse: 0.2759\n",
      "Epoch 12/20\n",
      "2161/2161 [==============================] - 29s 13ms/step - loss: 0.1246 - mse: 0.1246 - val_loss: 0.1137 - val_mse: 0.1137\n",
      "Epoch 13/20\n",
      "2161/2161 [==============================] - 27s 12ms/step - loss: 0.1183 - mse: 0.1183 - val_loss: 0.3762 - val_mse: 0.3762\n",
      "Epoch 14/20\n",
      "2161/2161 [==============================] - 28s 12ms/step - loss: 0.1157 - mse: 0.1157 - val_loss: 0.2097 - val_mse: 0.2097\n",
      "Epoch 15/20\n",
      "2161/2161 [==============================] - 28s 13ms/step - loss: 0.1093 - mse: 0.1093 - val_loss: 0.0950 - val_mse: 0.0950\n",
      "Epoch 16/20\n",
      "2161/2161 [==============================] - 30s 13ms/step - loss: 0.1062 - mse: 0.1062 - val_loss: 0.1055 - val_mse: 0.1055\n",
      "Epoch 17/20\n",
      "2161/2161 [==============================] - 30s 14ms/step - loss: 0.1035 - mse: 0.1035 - val_loss: 0.0858 - val_mse: 0.0858\n",
      "Epoch 18/20\n",
      "2161/2161 [==============================] - 29s 13ms/step - loss: 0.1034 - mse: 0.1034 - val_loss: 0.1606 - val_mse: 0.1606\n",
      "Epoch 19/20\n",
      "2161/2161 [==============================] - 31s 14ms/step - loss: 0.0968 - mse: 0.0968 - val_loss: 0.0873 - val_mse: 0.0873\n",
      "Epoch 20/20\n",
      "2161/2161 [==============================] - 36s 16ms/step - loss: 0.0971 - mse: 0.0971 - val_loss: 0.0849 - val_mse: 0.0849\n"
     ]
    }
   ],
   "source": [
    "# Model create\n",
    "feature_layer = tf.keras.layers.DenseFeatures(feature_columns)\n",
    "# `tf.keras.Sequential()` groups a linear stack of layers into a tf.keras.Model.\n",
    "model = tf.keras.Sequential([\n",
    "  feature_layer,\n",
    "  layers.Dense(256, activation='relu'),\n",
    "  layers.Dense(64, activation='relu'),\n",
    "  # layers.Dense(64, activation='relu'),\n",
    "  layers.Dense(1, activation='linear',  name='Price')\n",
    "])\n",
    "\n",
    "# Model compile\n",
    "model.compile(optimizer='adam',\n",
    "              loss='mse',\n",
    "              metrics=['mse'])\n",
    "\n",
    "# Model Fit\n",
    "history = model.fit(train_ds, validation_data = val_ds, epochs=20)"
   ]
  },
  {
   "cell_type": "markdown",
   "metadata": {},
   "source": [
    "<h4> Evaluating trained model performance using EVALUATION data </h4>"
   ]
  },
  {
   "cell_type": "code",
   "execution_count": null,
   "metadata": {},
   "outputs": [],
   "source": [
    "loss, mse = model.evaluate(val_ds)\n",
    "print(\"Mean Squared Error\", 10**mse)\n",
    "print(\"Root MEAN SQUARE ERROR $\",np.sqrt(10**mse))"
   ]
  },
  {
   "cell_type": "markdown",
   "metadata": {},
   "source": [
    "<h5> SAVE MODEL WITH NEW VERSION NUMBER</h5>"
   ]
  },
  {
   "cell_type": "code",
   "execution_count": 18,
   "metadata": {},
   "outputs": [
    {
     "name": "stdout",
     "output_type": "stream",
     "text": [
      "[1, 2, 9, 10]\n",
      "WARNING:tensorflow:Layers in a Sequential model should only have a single input tensor. Received: inputs={'Suburb': <tf.Tensor 'Suburb:0' shape=(None,) dtype=string>, 'Type': <tf.Tensor 'Type:0' shape=(None,) dtype=string>, 'Method': <tf.Tensor 'Method:0' shape=(None,) dtype=string>, 'Bedrooms': <tf.Tensor 'Bedrooms:0' shape=(None,) dtype=int64>, 'Bathrooms': <tf.Tensor 'Bathrooms:0' shape=(None,) dtype=int64>, 'Cars': <tf.Tensor 'Cars:0' shape=(None,) dtype=int64>, 'Latitude': <tf.Tensor 'Latitude:0' shape=(None,) dtype=float64>, 'Longitude': <tf.Tensor 'Longitude:0' shape=(None,) dtype=float64>, 'Distance': <tf.Tensor 'Distance:0' shape=(None,) dtype=float64>, 'Year': <tf.Tensor 'Year:0' shape=(None,) dtype=int64>, 'LogArea': <tf.Tensor 'LogArea:0' shape=(None,) dtype=float64>}. Consider rewriting this model with the Functional API.\n",
      "WARNING:tensorflow:Layers in a Sequential model should only have a single input tensor. Received: inputs={'Suburb': <tf.Tensor 'inputs_8:0' shape=(None,) dtype=string>, 'Type': <tf.Tensor 'inputs_9:0' shape=(None,) dtype=string>, 'Method': <tf.Tensor 'inputs_7:0' shape=(None,) dtype=string>, 'Bedrooms': <tf.Tensor 'inputs_1:0' shape=(None,) dtype=int64>, 'Bathrooms': <tf.Tensor 'inputs:0' shape=(None,) dtype=int64>, 'Cars': <tf.Tensor 'inputs_2:0' shape=(None,) dtype=int64>, 'Latitude': <tf.Tensor 'inputs_4:0' shape=(None,) dtype=float64>, 'Longitude': <tf.Tensor 'inputs_6:0' shape=(None,) dtype=float64>, 'Distance': <tf.Tensor 'inputs_3:0' shape=(None,) dtype=float64>, 'Year': <tf.Tensor 'inputs_10:0' shape=(None,) dtype=int64>, 'LogArea': <tf.Tensor 'inputs_5:0' shape=(None,) dtype=float64>}. Consider rewriting this model with the Functional API.\n",
      "WARNING:tensorflow:Layers in a Sequential model should only have a single input tensor. Received: inputs={'Suburb': <tf.Tensor 'inputs_8:0' shape=(None,) dtype=string>, 'Type': <tf.Tensor 'inputs_9:0' shape=(None,) dtype=string>, 'Method': <tf.Tensor 'inputs_7:0' shape=(None,) dtype=string>, 'Bedrooms': <tf.Tensor 'inputs_1:0' shape=(None,) dtype=int64>, 'Bathrooms': <tf.Tensor 'inputs:0' shape=(None,) dtype=int64>, 'Cars': <tf.Tensor 'inputs_2:0' shape=(None,) dtype=int64>, 'Latitude': <tf.Tensor 'inputs_4:0' shape=(None,) dtype=float64>, 'Longitude': <tf.Tensor 'inputs_6:0' shape=(None,) dtype=float64>, 'Distance': <tf.Tensor 'inputs_3:0' shape=(None,) dtype=float64>, 'Year': <tf.Tensor 'inputs_10:0' shape=(None,) dtype=int64>, 'LogArea': <tf.Tensor 'inputs_5:0' shape=(None,) dtype=float64>}. Consider rewriting this model with the Functional API.\n",
      "WARNING:tensorflow:Layers in a Sequential model should only have a single input tensor. Received: inputs={'Suburb': <tf.Tensor 'Suburb:0' shape=(None,) dtype=string>, 'Type': <tf.Tensor 'Type:0' shape=(None,) dtype=string>, 'Method': <tf.Tensor 'Method:0' shape=(None,) dtype=string>, 'Bedrooms': <tf.Tensor 'Bedrooms:0' shape=(None,) dtype=int64>, 'Bathrooms': <tf.Tensor 'Bathrooms:0' shape=(None,) dtype=int64>, 'Cars': <tf.Tensor 'Cars:0' shape=(None,) dtype=int64>, 'Latitude': <tf.Tensor 'Latitude:0' shape=(None,) dtype=float64>, 'Longitude': <tf.Tensor 'Longitude:0' shape=(None,) dtype=float64>, 'Distance': <tf.Tensor 'Distance:0' shape=(None,) dtype=float64>, 'Year': <tf.Tensor 'Year:0' shape=(None,) dtype=int64>, 'LogArea': <tf.Tensor 'LogArea:0' shape=(None,) dtype=float64>}. Consider rewriting this model with the Functional API.\n",
      "WARNING:tensorflow:Layers in a Sequential model should only have a single input tensor. Received: inputs={'Suburb': <tf.Tensor 'Suburb:0' shape=(None,) dtype=string>, 'Type': <tf.Tensor 'Type:0' shape=(None,) dtype=string>, 'Method': <tf.Tensor 'Method:0' shape=(None,) dtype=string>, 'Bedrooms': <tf.Tensor 'Bedrooms:0' shape=(None,) dtype=int64>, 'Bathrooms': <tf.Tensor 'Bathrooms:0' shape=(None,) dtype=int64>, 'Cars': <tf.Tensor 'Cars:0' shape=(None,) dtype=int64>, 'Latitude': <tf.Tensor 'Latitude:0' shape=(None,) dtype=float64>, 'Longitude': <tf.Tensor 'Longitude:0' shape=(None,) dtype=float64>, 'Distance': <tf.Tensor 'Distance:0' shape=(None,) dtype=float64>, 'Year': <tf.Tensor 'Year:0' shape=(None,) dtype=int64>, 'LogArea': <tf.Tensor 'LogArea:0' shape=(None,) dtype=float64>}. Consider rewriting this model with the Functional API.\n"
     ]
    },
    {
     "name": "stderr",
     "output_type": "stream",
     "text": [
      "WARNING:absl:Function `_wrapped_model` contains input name(s) Bathrooms, Bedrooms, Cars, Distance, Latitude, LogArea, Longitude, Method, Suburb, Type, Year with unsupported characters which will be renamed to bathrooms, bedrooms, cars, distance, latitude, logarea, longitude, method, suburb, type, year in the SavedModel.\n"
     ]
    },
    {
     "name": "stdout",
     "output_type": "stream",
     "text": [
      "WARNING:tensorflow:Layers in a Sequential model should only have a single input tensor. Received: inputs={'Suburb': <tf.Tensor 'inputs/Suburb:0' shape=(None,) dtype=string>, 'Type': <tf.Tensor 'inputs/Type:0' shape=(None,) dtype=string>, 'Method': <tf.Tensor 'inputs/Method:0' shape=(None,) dtype=string>, 'Bedrooms': <tf.Tensor 'inputs/Bedrooms:0' shape=(None,) dtype=int64>, 'Bathrooms': <tf.Tensor 'inputs/Bathrooms:0' shape=(None,) dtype=int64>, 'Cars': <tf.Tensor 'inputs/Cars:0' shape=(None,) dtype=int64>, 'Latitude': <tf.Tensor 'inputs/Latitude:0' shape=(None,) dtype=float64>, 'Longitude': <tf.Tensor 'inputs/Longitude:0' shape=(None,) dtype=float64>, 'Distance': <tf.Tensor 'inputs/Distance:0' shape=(None,) dtype=float64>, 'Year': <tf.Tensor 'inputs/Year:0' shape=(None,) dtype=int64>, 'LogArea': <tf.Tensor 'inputs/LogArea:0' shape=(None,) dtype=float64>}. Consider rewriting this model with the Functional API.\n"
     ]
    },
    {
     "name": "stderr",
     "output_type": "stream",
     "text": [
      "WARNING:tensorflow:Layers in a Sequential model should only have a single input tensor. Received: inputs={'Suburb': <tf.Tensor 'inputs/Suburb:0' shape=(None,) dtype=string>, 'Type': <tf.Tensor 'inputs/Type:0' shape=(None,) dtype=string>, 'Method': <tf.Tensor 'inputs/Method:0' shape=(None,) dtype=string>, 'Bedrooms': <tf.Tensor 'inputs/Bedrooms:0' shape=(None,) dtype=int64>, 'Bathrooms': <tf.Tensor 'inputs/Bathrooms:0' shape=(None,) dtype=int64>, 'Cars': <tf.Tensor 'inputs/Cars:0' shape=(None,) dtype=int64>, 'Latitude': <tf.Tensor 'inputs/Latitude:0' shape=(None,) dtype=float64>, 'Longitude': <tf.Tensor 'inputs/Longitude:0' shape=(None,) dtype=float64>, 'Distance': <tf.Tensor 'inputs/Distance:0' shape=(None,) dtype=float64>, 'Year': <tf.Tensor 'inputs/Year:0' shape=(None,) dtype=int64>, 'LogArea': <tf.Tensor 'inputs/LogArea:0' shape=(None,) dtype=float64>}. Consider rewriting this model with the Functional API.\n"
     ]
    },
    {
     "name": "stdout",
     "output_type": "stream",
     "text": [
      "WARNING:tensorflow:Layers in a Sequential model should only have a single input tensor. Received: inputs={'Suburb': <tf.Tensor 'inputs/Suburb:0' shape=(None,) dtype=string>, 'Type': <tf.Tensor 'inputs/Type:0' shape=(None,) dtype=string>, 'Method': <tf.Tensor 'inputs/Method:0' shape=(None,) dtype=string>, 'Bedrooms': <tf.Tensor 'inputs/Bedrooms:0' shape=(None,) dtype=int64>, 'Bathrooms': <tf.Tensor 'inputs/Bathrooms:0' shape=(None,) dtype=int64>, 'Cars': <tf.Tensor 'inputs/Cars:0' shape=(None,) dtype=int64>, 'Latitude': <tf.Tensor 'inputs/Latitude:0' shape=(None,) dtype=float64>, 'Longitude': <tf.Tensor 'inputs/Longitude:0' shape=(None,) dtype=float64>, 'Distance': <tf.Tensor 'inputs/Distance:0' shape=(None,) dtype=float64>, 'Year': <tf.Tensor 'inputs/Year:0' shape=(None,) dtype=int64>, 'LogArea': <tf.Tensor 'inputs/LogArea:0' shape=(None,) dtype=float64>}. Consider rewriting this model with the Functional API.\n"
     ]
    },
    {
     "name": "stderr",
     "output_type": "stream",
     "text": [
      "WARNING:tensorflow:Layers in a Sequential model should only have a single input tensor. Received: inputs={'Suburb': <tf.Tensor 'inputs/Suburb:0' shape=(None,) dtype=string>, 'Type': <tf.Tensor 'inputs/Type:0' shape=(None,) dtype=string>, 'Method': <tf.Tensor 'inputs/Method:0' shape=(None,) dtype=string>, 'Bedrooms': <tf.Tensor 'inputs/Bedrooms:0' shape=(None,) dtype=int64>, 'Bathrooms': <tf.Tensor 'inputs/Bathrooms:0' shape=(None,) dtype=int64>, 'Cars': <tf.Tensor 'inputs/Cars:0' shape=(None,) dtype=int64>, 'Latitude': <tf.Tensor 'inputs/Latitude:0' shape=(None,) dtype=float64>, 'Longitude': <tf.Tensor 'inputs/Longitude:0' shape=(None,) dtype=float64>, 'Distance': <tf.Tensor 'inputs/Distance:0' shape=(None,) dtype=float64>, 'Year': <tf.Tensor 'inputs/Year:0' shape=(None,) dtype=int64>, 'LogArea': <tf.Tensor 'inputs/LogArea:0' shape=(None,) dtype=float64>}. Consider rewriting this model with the Functional API.\n"
     ]
    },
    {
     "name": "stdout",
     "output_type": "stream",
     "text": [
      "INFO:tensorflow:Assets written to: saved_models/11/assets\n"
     ]
    },
    {
     "name": "stderr",
     "output_type": "stream",
     "text": [
      "INFO:tensorflow:Assets written to: saved_models/11/assets\n"
     ]
    }
   ],
   "source": [
    "directory_contents = os.listdir('./saved_models')\n",
    "models = sorted([int(i) for i in directory_contents])\n",
    "print(models)\n",
    "new_vers = models[-1] +1\n",
    "model.save(f\"saved_models/{new_vers}\")\n",
    "models.append(new_vers)"
   ]
  },
  {
   "cell_type": "markdown",
   "metadata": {},
   "source": [
    "<h4> PLOTTING OF LOSS/MSE for TRAINING & EVALUATION DATA  </h4>\n",
    "Useful to determine underfitting/overfitting as well as optimal number of epcochs for training"
   ]
  },
  {
   "cell_type": "code",
   "execution_count": 19,
   "metadata": {},
   "outputs": [
    {
     "data": {
      "image/png": "[encoded data removed]",
      "text/plain": [
       "<Figure size 720x360 with 2 Axes>"
      ]
     },
     "metadata": {
      "needs_background": "light"
     },
     "output_type": "display_data"
    }
   ],
   "source": [
    "# Use matplotlib to draw the model's loss curves for training and validation\n",
    "def plot_curves(history, metrics):\n",
    "    nrows = 1\n",
    "    ncols = 2\n",
    "    fig = plt.figure(figsize=(10, 5))\n",
    "\n",
    "    for idx, key in enumerate(metrics):  \n",
    "        ax = fig.add_subplot(nrows, ncols, idx+1)\n",
    "        plt.plot(history.history[key])\n",
    "        plt.plot(history.history['val_{}'.format(key)])\n",
    "        plt.title('model {}'.format(key))\n",
    "        plt.ylabel(key)\n",
    "        plt.xlabel('epoch')\n",
    "        plt.legend(['train', 'validation'], loc='upper left');\n",
    "\n",
    "# Plotting\n",
    "plot_curves(history, ['loss', 'mse'])"
   ]
  },
  {
   "cell_type": "markdown",
   "metadata": {},
   "source": [
    "<H3> PREDICTION </H3>\n",
    "<h4>Using TEST data to make PRICE prediction & compare ACTUAL vs PREDICTED</h4>\n",
    " "
   ]
  },
  {
   "cell_type": "code",
   "execution_count": null,
   "metadata": {},
   "outputs": [],
   "source": [
    "inp = {'Suburb':'BAULKHAM HILLS','Type': 'House','Method': 'auction','Bedrooms':  4, 'Bathrooms':  2, 'Cars':  1, 'Area':  450,'Latitude':  -33.77157324083317 ,'Longitude':  150.98026592490677,'Distance':  26.5, 'Year':  2022}\n",
    "input_df = pd.DataFrame.from_dict(inp)\n",
    "inp_ds = tf.data.Dataset.from_tensor_slices((dict(input_df)))\n",
    "inp_ds = inp_ds.batch(1)\n",
    "\n",
    "pred = model.predict(inp_ds)\n",
    "print(pred)"
   ]
  },
  {
   "cell_type": "code",
   "execution_count": 20,
   "metadata": {},
   "outputs": [],
   "source": [
    "def measure_performance(model,vers):\n",
    "    predictions = model.predict(test_ds)\n",
    "  \n",
    "    # test[\"Price\"] = round(10 ** test['LogPrice'])\n",
    "    # predictions = np.round(10 ** predictions)\n",
    "    \n",
    "    test['Price']= round(special.inv_boxcox(test['BoxPrice'], lam))\n",
    "    predictions = np.round(special.inv_boxcox(predictions, lam))\n",
    "\n",
    "    #\n",
    "    for i in range(30):\n",
    "        diff = round((predictions[i][0] - test['Price'].iloc[i])/1000)\n",
    "        print('PREDICTION: ${0}'.format(predictions[i][0]) + '   ACTUAL: '+format(test['Price'].iloc[i]) + f' DIFFERENCE: ${diff}')\n",
    "\n",
    "\n",
    "    x = range(0,4200000)\n",
    "    y = x\n",
    "    plt.scatter(test['Price'].iloc[0:len(predictions)],predictions[0:len(predictions)])\n",
    "    plt.title(\"ACTUAL VS PREDICTED PRICE\")\n",
    "    plt.xlabel(\"ACTUAL PRICE: $\")\n",
    "    plt.ylabel(\"PREDICATED PRICE: $\")\n",
    "    plt.plot(x,y,'red')\n",
    "    plt.savefig(f\"model{vers}_rmse.png\",bbox_inches = \"tight\")\n",
    "    rmse = np.sqrt(mean_squared_error(test[\"Price\"],predictions))\n",
    "    with open(\"RMSE.txt\", \"a\") as text_file:\n",
    "        n = text_file.write(f\"ROOT MEAN SQUARE ERROR ON TEST DATA for MODEL{vers}: ${rmse}\\n\")\n",
    "    text_file.close()  \n",
    "    print(f\"ROOT MEAN SQUARE ERROR ON TEST DATA: ${rmse}\")"
   ]
  },
  {
   "cell_type": "code",
   "execution_count": 21,
   "metadata": {},
   "outputs": [
    {
     "name": "stdout",
     "output_type": "stream",
     "text": [
      "WARNING:tensorflow:Layers in a Sequential model should only have a single input tensor. Received: inputs={'Suburb': <tf.Tensor 'IteratorGetNext:8' shape=(None,) dtype=string>, 'Type': <tf.Tensor 'IteratorGetNext:9' shape=(None,) dtype=string>, 'Method': <tf.Tensor 'IteratorGetNext:7' shape=(None,) dtype=string>, 'Bedrooms': <tf.Tensor 'IteratorGetNext:1' shape=(None,) dtype=int64>, 'Bathrooms': <tf.Tensor 'IteratorGetNext:0' shape=(None,) dtype=int64>, 'Cars': <tf.Tensor 'IteratorGetNext:2' shape=(None,) dtype=int64>, 'Latitude': <tf.Tensor 'IteratorGetNext:4' shape=(None,) dtype=float64>, 'Longitude': <tf.Tensor 'IteratorGetNext:6' shape=(None,) dtype=float64>, 'Distance': <tf.Tensor 'IteratorGetNext:3' shape=(None,) dtype=float64>, 'Year': <tf.Tensor 'IteratorGetNext:10' shape=(None,) dtype=int64>, 'LogArea': <tf.Tensor 'IteratorGetNext:5' shape=(None,) dtype=float64>}. Consider rewriting this model with the Functional API.\n"
     ]
    },
    {
     "name": "stderr",
     "output_type": "stream",
     "text": [
      "WARNING:tensorflow:Layers in a Sequential model should only have a single input tensor. Received: inputs={'Suburb': <tf.Tensor 'IteratorGetNext:8' shape=(None,) dtype=string>, 'Type': <tf.Tensor 'IteratorGetNext:9' shape=(None,) dtype=string>, 'Method': <tf.Tensor 'IteratorGetNext:7' shape=(None,) dtype=string>, 'Bedrooms': <tf.Tensor 'IteratorGetNext:1' shape=(None,) dtype=int64>, 'Bathrooms': <tf.Tensor 'IteratorGetNext:0' shape=(None,) dtype=int64>, 'Cars': <tf.Tensor 'IteratorGetNext:2' shape=(None,) dtype=int64>, 'Latitude': <tf.Tensor 'IteratorGetNext:4' shape=(None,) dtype=float64>, 'Longitude': <tf.Tensor 'IteratorGetNext:6' shape=(None,) dtype=float64>, 'Distance': <tf.Tensor 'IteratorGetNext:3' shape=(None,) dtype=float64>, 'Year': <tf.Tensor 'IteratorGetNext:10' shape=(None,) dtype=int64>, 'LogArea': <tf.Tensor 'IteratorGetNext:5' shape=(None,) dtype=float64>}. Consider rewriting this model with the Functional API.\n"
     ]
    },
    {
     "name": "stdout",
     "output_type": "stream",
     "text": [
      "676/676 [==============================] - 2s 3ms/step\n",
      "PREDICTION: $541992.0   ACTUAL: 632500.0 DIFFERENCE: $-91\n",
      "PREDICTION: $1386316.0   ACTUAL: 1330000.0 DIFFERENCE: $56\n",
      "PREDICTION: $889194.0   ACTUAL: 962000.0 DIFFERENCE: $-73\n",
      "PREDICTION: $687671.0   ACTUAL: 660000.0 DIFFERENCE: $28\n",
      "PREDICTION: $670859.0   ACTUAL: 960000.0 DIFFERENCE: $-289\n",
      "PREDICTION: $532962.0   ACTUAL: 460000.0 DIFFERENCE: $73\n",
      "PREDICTION: $1210614.0   ACTUAL: 1395000.0 DIFFERENCE: $-184\n",
      "PREDICTION: $906310.0   ACTUAL: 1410000.0 DIFFERENCE: $-504\n",
      "PREDICTION: $1437193.0   ACTUAL: 1715000.0 DIFFERENCE: $-278\n",
      "PREDICTION: $1669841.0   ACTUAL: 1950000.0 DIFFERENCE: $-280\n",
      "PREDICTION: $1213730.0   ACTUAL: 1150000.0 DIFFERENCE: $64\n",
      "PREDICTION: $373162.0   ACTUAL: 330000.0 DIFFERENCE: $43\n",
      "PREDICTION: $651178.0   ACTUAL: 512500.0 DIFFERENCE: $139\n",
      "PREDICTION: $701066.0   ACTUAL: 915000.0 DIFFERENCE: $-214\n",
      "PREDICTION: $1934998.0   ACTUAL: 3350000.0 DIFFERENCE: $-1415\n",
      "PREDICTION: $852277.0   ACTUAL: 655000.0 DIFFERENCE: $197\n",
      "PREDICTION: $1080420.0   ACTUAL: 850000.0 DIFFERENCE: $230\n",
      "PREDICTION: $565008.0   ACTUAL: 586720.0 DIFFERENCE: $-22\n",
      "PREDICTION: $533263.0   ACTUAL: 535000.0 DIFFERENCE: $-2\n",
      "PREDICTION: $562009.0   ACTUAL: 580000.0 DIFFERENCE: $-18\n",
      "PREDICTION: $614562.0   ACTUAL: 642500.0 DIFFERENCE: $-28\n",
      "PREDICTION: $747868.0   ACTUAL: 650000.0 DIFFERENCE: $98\n",
      "PREDICTION: $486756.0   ACTUAL: 290000.0 DIFFERENCE: $197\n",
      "PREDICTION: $625829.0   ACTUAL: 965000.0 DIFFERENCE: $-339\n",
      "PREDICTION: $539506.0   ACTUAL: 413500.0 DIFFERENCE: $126\n",
      "PREDICTION: $553976.0   ACTUAL: 610000.0 DIFFERENCE: $-56\n",
      "PREDICTION: $877265.0   ACTUAL: 1050000.0 DIFFERENCE: $-173\n",
      "PREDICTION: $1000248.0   ACTUAL: 830000.0 DIFFERENCE: $170\n",
      "PREDICTION: $325354.0   ACTUAL: 285000.0 DIFFERENCE: $40\n",
      "PREDICTION: $610735.0   ACTUAL: 635000.0 DIFFERENCE: $-24\n",
      "ROOT MEAN SQUARE ERROR ON TEST DATA: $310794.2200483266\n",
      "WARNING:tensorflow:Layers in a Sequential model should only have a single input tensor. Received: inputs={'Suburb': <tf.Tensor 'IteratorGetNext:8' shape=(None,) dtype=string>, 'Type': <tf.Tensor 'IteratorGetNext:9' shape=(None,) dtype=string>, 'Method': <tf.Tensor 'IteratorGetNext:7' shape=(None,) dtype=string>, 'Bedrooms': <tf.Tensor 'IteratorGetNext:1' shape=(None,) dtype=int64>, 'Bathrooms': <tf.Tensor 'IteratorGetNext:0' shape=(None,) dtype=int64>, 'Cars': <tf.Tensor 'IteratorGetNext:2' shape=(None,) dtype=int64>, 'Latitude': <tf.Tensor 'IteratorGetNext:4' shape=(None,) dtype=float64>, 'Longitude': <tf.Tensor 'IteratorGetNext:6' shape=(None,) dtype=float64>, 'Distance': <tf.Tensor 'IteratorGetNext:3' shape=(None,) dtype=float64>, 'Year': <tf.Tensor 'IteratorGetNext:10' shape=(None,) dtype=int64>, 'LogArea': <tf.Tensor 'IteratorGetNext:5' shape=(None,) dtype=float64>}. Consider rewriting this model with the Functional API.\n"
     ]
    },
    {
     "name": "stderr",
     "output_type": "stream",
     "text": [
      "WARNING:tensorflow:Layers in a Sequential model should only have a single input tensor. Received: inputs={'Suburb': <tf.Tensor 'IteratorGetNext:8' shape=(None,) dtype=string>, 'Type': <tf.Tensor 'IteratorGetNext:9' shape=(None,) dtype=string>, 'Method': <tf.Tensor 'IteratorGetNext:7' shape=(None,) dtype=string>, 'Bedrooms': <tf.Tensor 'IteratorGetNext:1' shape=(None,) dtype=int64>, 'Bathrooms': <tf.Tensor 'IteratorGetNext:0' shape=(None,) dtype=int64>, 'Cars': <tf.Tensor 'IteratorGetNext:2' shape=(None,) dtype=int64>, 'Latitude': <tf.Tensor 'IteratorGetNext:4' shape=(None,) dtype=float64>, 'Longitude': <tf.Tensor 'IteratorGetNext:6' shape=(None,) dtype=float64>, 'Distance': <tf.Tensor 'IteratorGetNext:3' shape=(None,) dtype=float64>, 'Year': <tf.Tensor 'IteratorGetNext:10' shape=(None,) dtype=int64>, 'LogArea': <tf.Tensor 'IteratorGetNext:5' shape=(None,) dtype=float64>}. Consider rewriting this model with the Functional API.\n"
     ]
    },
    {
     "name": "stdout",
     "output_type": "stream",
     "text": [
      "676/676 [==============================] - 2s 3ms/step\n",
      "PREDICTION: $564638.0   ACTUAL: 632500.0 DIFFERENCE: $-68\n",
      "PREDICTION: $1508098.0   ACTUAL: 1330000.0 DIFFERENCE: $178\n",
      "PREDICTION: $929358.0   ACTUAL: 962000.0 DIFFERENCE: $-33\n",
      "PREDICTION: $752401.0   ACTUAL: 660000.0 DIFFERENCE: $92\n",
      "PREDICTION: $717296.0   ACTUAL: 960000.0 DIFFERENCE: $-243\n",
      "PREDICTION: $586049.0   ACTUAL: 460000.0 DIFFERENCE: $126\n",
      "PREDICTION: $1302186.0   ACTUAL: 1395000.0 DIFFERENCE: $-93\n",
      "PREDICTION: $987514.0   ACTUAL: 1410000.0 DIFFERENCE: $-422\n",
      "PREDICTION: $1565703.0   ACTUAL: 1715000.0 DIFFERENCE: $-149\n",
      "PREDICTION: $1800335.0   ACTUAL: 1950000.0 DIFFERENCE: $-150\n",
      "PREDICTION: $1125417.0   ACTUAL: 1150000.0 DIFFERENCE: $-25\n",
      "PREDICTION: $411799.0   ACTUAL: 330000.0 DIFFERENCE: $82\n",
      "PREDICTION: $730965.0   ACTUAL: 512500.0 DIFFERENCE: $218\n",
      "PREDICTION: $740712.0   ACTUAL: 915000.0 DIFFERENCE: $-174\n",
      "PREDICTION: $1927983.0   ACTUAL: 3350000.0 DIFFERENCE: $-1422\n",
      "PREDICTION: $901407.0   ACTUAL: 655000.0 DIFFERENCE: $246\n",
      "PREDICTION: $1171653.0   ACTUAL: 850000.0 DIFFERENCE: $322\n",
      "PREDICTION: $606900.0   ACTUAL: 586720.0 DIFFERENCE: $20\n",
      "PREDICTION: $579356.0   ACTUAL: 535000.0 DIFFERENCE: $44\n",
      "PREDICTION: $603838.0   ACTUAL: 580000.0 DIFFERENCE: $24\n",
      "PREDICTION: $659210.0   ACTUAL: 642500.0 DIFFERENCE: $17\n",
      "PREDICTION: $802572.0   ACTUAL: 650000.0 DIFFERENCE: $153\n",
      "PREDICTION: $521214.0   ACTUAL: 290000.0 DIFFERENCE: $231\n",
      "PREDICTION: $664644.0   ACTUAL: 965000.0 DIFFERENCE: $-300\n",
      "PREDICTION: $583622.0   ACTUAL: 413500.0 DIFFERENCE: $170\n",
      "PREDICTION: $586891.0   ACTUAL: 610000.0 DIFFERENCE: $-23\n",
      "PREDICTION: $916710.0   ACTUAL: 1050000.0 DIFFERENCE: $-133\n",
      "PREDICTION: $1071202.0   ACTUAL: 830000.0 DIFFERENCE: $241\n",
      "PREDICTION: $356668.0   ACTUAL: 285000.0 DIFFERENCE: $72\n",
      "PREDICTION: $664063.0   ACTUAL: 635000.0 DIFFERENCE: $29\n",
      "ROOT MEAN SQUARE ERROR ON TEST DATA: $299688.3432261475\n"
     ]
    },
    {
     "data": {
      "image/png": "[encoded data removed]",
      "text/plain": [
       "<Figure size 432x288 with 1 Axes>"
      ]
     },
     "metadata": {
      "needs_background": "light"
     },
     "output_type": "display_data"
    }
   ],
   "source": [
    "\n",
    "for mod_vers in range(models[-2],models[-1]+1):\n",
    "    model = tf.keras.models.load_model(f\"saved_models/{mod_vers}\")\n",
    "    measure_performance(model,mod_vers)\n",
    "    \n",
    "\n",
    "# model8 = tf.keras.models.load_model('saved_models/9')\n",
    "# model9 = tf.keras.models.load_model('saved_models/9')\n",
    "# model10 = tf.keras.models.load_model('saved_models/10')\n",
    "# model11 = tf.keras.models.load_model('saved_models/11')\n",
    "\n",
    "\n",
    "# Check its architecture\n",
    "# model1.summary()"
   ]
  },
  {
   "cell_type": "markdown",
   "metadata": {},
   "source": [
    "<h4> SERVE MODEL IN PRODUCTION (HEROKU)</h4>\n",
    "<h5> Using TF Serving Docker Container </h5>"
   ]
  },
  {
   "cell_type": "code",
   "execution_count": null,
   "metadata": {},
   "outputs": [],
   "source": [
    "%%bash\n",
    "heroku auth:login\n",
    "heroku container:login\n",
    "heroku container:push web -a tf-serve-model\n",
    "heroku container:release web -a tf-serve-model\n",
    "heroku logs -a tf-serve-model --tail"
   ]
  },
  {
   "cell_type": "markdown",
   "metadata": {},
   "source": [
    "<h4> SERVE MODEL LOCALLY FOR TESTING PURPOSES ONLY (OPTIONAL) </h4>\n",
    "<h5> Using TF Serving Docker Container </h5>"
   ]
  },
  {
   "cell_type": "code",
   "execution_count": null,
   "metadata": {},
   "outputs": [],
   "source": [
    "#docker run -it -v /home/khaled/AUTOMATION-EXCEL\\:/tf_serving -p 8601:8601 --entrypoint /bin/bash tensorflow/serving\n",
    "#tensorflow_model_server --rest_api_port=8601 --model_name=melb_price --model_base_path=/tf_serving/saved_models/\n",
    "\n",
    "client = docker.from_env()\n",
    "container = client.containers.run(image = \"tensorflow/serving\", ports = {8601:8601},volumes = ['/home/khaled/MLrealestate:/tf_serving'], detach=True)\n",
    "container.exec_run('/bin/bash')\n",
    "print(container.exec_run('ls'))\n",
    "container.exec_run('tensorflow_model_server --rest_api_port=8601 --model_name=real_estate_price_est --model_base_path=/tf_serving/saved_models/',detach = True)"
   ]
  },
  {
   "cell_type": "code",
   "execution_count": null,
   "metadata": {},
   "outputs": [],
   "source": [
    "iterator = examples['train_ds'].__iter__()\n",
    "next_element = iterator.get_next()\n",
    "pt = next_element[0]\n",
    "en = next_element[1]\n",
    "print(pt.numpy())\n",
    "print(en.numpy())"
   ]
  },
  {
   "cell_type": "code",
   "execution_count": null,
   "metadata": {},
   "outputs": [],
   "source": [
    "input = list(inp.values())\n",
    "data = {\"instances\": [inp]}\n",
    "test.head(5)\n"
   ]
  },
  {
   "cell_type": "markdown",
   "metadata": {},
   "source": [
    "<h4> API CALL FOR PREDICTION</h4>\n",
    "<h5>  REST API POST for LOCAL TF SERVING CONTAINER - MODEL NAME: real_estate_est</h5>"
   ]
  },
  {
   "cell_type": "code",
   "execution_count": null,
   "metadata": {},
   "outputs": [],
   "source": [
    "#%%bash\n",
    "#curl -d '{\"instances\": [[0.25,0.07553956834532373,0.0,0.25,0.0,0.1937046004842615,0.9103448275862069,0.516068393160683,0.4633053471477789,1.0]]}' \\\n",
    "#-X POST http://localhost:8601/v1/models/melb_price:predict\n",
    "\n",
    "r = requests.post(url=\"http://localhost:8601/v1/models/real_estate_price_est:predict\", data=json.dumps(data))\n",
    "print(r.json())"
   ]
  }
 ],
 "metadata": {
  "kernelspec": {
   "display_name": "Python 3.8.10 64-bit",
   "language": "python",
   "name": "python3"
  },
  "language_info": {
   "codemirror_mode": {
    "name": "ipython",
    "version": 3
   },
   "file_extension": ".py",
   "mimetype": "text/x-python",
   "name": "python",
   "nbconvert_exporter": "python",
   "pygments_lexer": "ipython3",
   "version": "3.8.10"
  },
  "orig_nbformat": 4,
  "vscode": {
   "interpreter": {
    "hash": "916dbcbb3f70747c44a77c7bcd40155683ae19c65e1c03b4aa3499c5328201f1"
   }
  }
 },
 "nbformat": 4,
 "nbformat_minor": 2
}
