{
 "cells": [
  {
   "cell_type": "markdown",
   "metadata": {},
   "source": [
    "<B><H2> HOUSE PRICE ESTIMATOR </H2></B><H5>TENSORFLOW REGRESSION SEQUENTIAL DNN MODEL</H5>\n"
   ]
  },
  {
   "cell_type": "code",
   "execution_count": 1,
   "metadata": {},
   "outputs": [
    {
     "name": "stderr",
     "output_type": "stream",
     "text": [
      "2022-08-03 02:08:52.576039: I tensorflow/core/util/util.cc:169] oneDNN custom operations are on. You may see slightly different numerical results due to floating-point round-off errors from different computation orders. To turn them off, set the environment variable `TF_ENABLE_ONEDNN_OPTS=0`.\n",
      "2022-08-03 02:08:52.748133: W tensorflow/stream_executor/platform/default/dso_loader.cc:64] Could not load dynamic library 'libcudart.so.11.0'; dlerror: libcudart.so.11.0: cannot open shared object file: No such file or directory\n",
      "2022-08-03 02:08:52.748157: I tensorflow/stream_executor/cuda/cudart_stub.cc:29] Ignore above cudart dlerror if you do not have a GPU set up on your machine.\n"
     ]
    }
   ],
   "source": [
    "import docker\n",
    "import requests\n",
    "import json\n",
    "import numpy as np\n",
    "import pandas as pd\n",
    "\n",
    "\n",
    "\n",
    "#TENSORFLOW API\n",
    "import tensorflow as tf\n",
    "import tensorflow_data_validation as tfdv\n",
    "# Feature Engineering\n",
    "from tensorflow import feature_column as fc\n",
    "from keras.models import Sequential\n",
    "from keras import layers\n",
    "from keras import utils\n",
    "# TF Dataset for input pipeline\n",
    "import tensorflow_datasets as tfds\n",
    "\n",
    "# VISUALISATION API\n",
    "import matplotlib.pyplot as plt\n",
    "import seaborn as sns # Seaborn is a Python data visualization library based on matplotlib.\n",
    "\n",
    "# Import train_test_split function from sklearn.model_selection\n",
    "from sklearn.model_selection import train_test_split\n",
    "\n",
    "# Used to calculate stats such as Z score, standard deviation etc.\n",
    "from scipy import stats\n",
    "\n",
    "city = 'Melbourne'"
   ]
  },
  {
   "cell_type": "markdown",
   "metadata": {},
   "source": [
    "<H5> READ THE DATA INTO PANDAS DATAFRAME.</H5> Remove any NULL values"
   ]
  },
  {
   "cell_type": "code",
   "execution_count": 2,
   "metadata": {},
   "outputs": [
    {
     "data": {
      "text/html": [
       "<div>\n",
       "<style scoped>\n",
       "    .dataframe tbody tr th:only-of-type {\n",
       "        vertical-align: middle;\n",
       "    }\n",
       "\n",
       "    .dataframe tbody tr th {\n",
       "        vertical-align: top;\n",
       "    }\n",
       "\n",
       "    .dataframe thead th {\n",
       "        text-align: right;\n",
       "    }\n",
       "</style>\n",
       "<table border=\"1\" class=\"dataframe\">\n",
       "  <thead>\n",
       "    <tr style=\"text-align: right;\">\n",
       "      <th></th>\n",
       "      <th>Street</th>\n",
       "      <th>Address</th>\n",
       "      <th>Suburb</th>\n",
       "      <th>State</th>\n",
       "      <th>Postcode</th>\n",
       "      <th>Type</th>\n",
       "      <th>Date</th>\n",
       "      <th>Method</th>\n",
       "      <th>Price</th>\n",
       "      <th>Bedrooms</th>\n",
       "      <th>Bathrooms</th>\n",
       "      <th>Cars</th>\n",
       "      <th>Area</th>\n",
       "      <th>Agent</th>\n",
       "      <th>Latitude</th>\n",
       "      <th>Longitude</th>\n",
       "      <th>Distance</th>\n",
       "    </tr>\n",
       "  </thead>\n",
       "  <tbody>\n",
       "    <tr>\n",
       "      <th>0</th>\n",
       "      <td>413/250 Barkly Street</td>\n",
       "      <td>FOOTSCRAY VIC 3011</td>\n",
       "      <td>FOOTSCRAY</td>\n",
       "      <td>VIC</td>\n",
       "      <td>3011</td>\n",
       "      <td>House</td>\n",
       "      <td>22-Jul-22</td>\n",
       "      <td>private treaty</td>\n",
       "      <td>455</td>\n",
       "      <td>2</td>\n",
       "      <td>1</td>\n",
       "      <td>1</td>\n",
       "      <td>0.0</td>\n",
       "      <td>Sweeney Estate Agents Yarraville</td>\n",
       "      <td>-37.798134</td>\n",
       "      <td>144.897345</td>\n",
       "      <td>6.054337</td>\n",
       "    </tr>\n",
       "    <tr>\n",
       "      <th>1</th>\n",
       "      <td>28 Moubray Street</td>\n",
       "      <td>ALBERT PARK VIC 3206</td>\n",
       "      <td>ALBERT PARK</td>\n",
       "      <td>VIC</td>\n",
       "      <td>3206</td>\n",
       "      <td>House</td>\n",
       "      <td>27-Nov-21</td>\n",
       "      <td>auction</td>\n",
       "      <td>2270000</td>\n",
       "      <td>2</td>\n",
       "      <td>1</td>\n",
       "      <td>1</td>\n",
       "      <td>0.0</td>\n",
       "      <td>Marshall White Port Phillip</td>\n",
       "      <td>-37.840971</td>\n",
       "      <td>144.951109</td>\n",
       "      <td>3.158503</td>\n",
       "    </tr>\n",
       "    <tr>\n",
       "      <th>2</th>\n",
       "      <td>17 Paul Street</td>\n",
       "      <td>CHELTENHAM VIC 3192</td>\n",
       "      <td>CHELTENHAM</td>\n",
       "      <td>VIC</td>\n",
       "      <td>3192</td>\n",
       "      <td>House</td>\n",
       "      <td>26-Nov-21</td>\n",
       "      <td>auction</td>\n",
       "      <td>2260000</td>\n",
       "      <td>4</td>\n",
       "      <td>2</td>\n",
       "      <td>2</td>\n",
       "      <td>0.0</td>\n",
       "      <td>Buxton Real Estate Mentone</td>\n",
       "      <td>-37.961458</td>\n",
       "      <td>145.047628</td>\n",
       "      <td>17.977853</td>\n",
       "    </tr>\n",
       "    <tr>\n",
       "      <th>3</th>\n",
       "      <td>2506/83 Queensbridge Street</td>\n",
       "      <td>SOUTHBANK VIC 3006</td>\n",
       "      <td>SOUTHBANK</td>\n",
       "      <td>VIC</td>\n",
       "      <td>3006</td>\n",
       "      <td>Apartment</td>\n",
       "      <td>6-Jan-22</td>\n",
       "      <td>private treaty</td>\n",
       "      <td>2280000</td>\n",
       "      <td>3</td>\n",
       "      <td>3</td>\n",
       "      <td>2</td>\n",
       "      <td>0.0</td>\n",
       "      <td>MICM Real Estate</td>\n",
       "      <td>-37.825362</td>\n",
       "      <td>144.964020</td>\n",
       "      <td>1.241866</td>\n",
       "    </tr>\n",
       "    <tr>\n",
       "      <th>4</th>\n",
       "      <td>1/7 Foam Street</td>\n",
       "      <td>HAMPTON VIC 3188</td>\n",
       "      <td>HAMPTON</td>\n",
       "      <td>VIC</td>\n",
       "      <td>3188</td>\n",
       "      <td>House</td>\n",
       "      <td>20-Nov-21</td>\n",
       "      <td>auction</td>\n",
       "      <td>2262000</td>\n",
       "      <td>4</td>\n",
       "      <td>2</td>\n",
       "      <td>2</td>\n",
       "      <td>0.0</td>\n",
       "      <td>Marshall White Port Phillip</td>\n",
       "      <td>-37.937024</td>\n",
       "      <td>145.006746</td>\n",
       "      <td>14.185577</td>\n",
       "    </tr>\n",
       "  </tbody>\n",
       "</table>\n",
       "</div>"
      ],
      "text/plain": [
       "                         Street               Address       Suburb State  \\\n",
       "0        413/250 Barkly Street     FOOTSCRAY VIC 3011    FOOTSCRAY   VIC   \n",
       "1            28 Moubray Street   ALBERT PARK VIC 3206  ALBERT PARK   VIC   \n",
       "2               17 Paul Street    CHELTENHAM VIC 3192   CHELTENHAM   VIC   \n",
       "3  2506/83 Queensbridge Street     SOUTHBANK VIC 3006    SOUTHBANK   VIC   \n",
       "4              1/7 Foam Street       HAMPTON VIC 3188      HAMPTON   VIC   \n",
       "\n",
       "   Postcode        Type       Date          Method    Price  Bedrooms  \\\n",
       "0      3011       House  22-Jul-22  private treaty      455         2   \n",
       "1      3206       House  27-Nov-21         auction  2270000         2   \n",
       "2      3192       House  26-Nov-21         auction  2260000         4   \n",
       "3      3006  Apartment    6-Jan-22  private treaty  2280000         3   \n",
       "4      3188       House  20-Nov-21         auction  2262000         4   \n",
       "\n",
       "   Bathrooms  Cars  Area                             Agent   Latitude  \\\n",
       "0          1     1   0.0  Sweeney Estate Agents Yarraville -37.798134   \n",
       "1          1     1   0.0       Marshall White Port Phillip -37.840971   \n",
       "2          2     2   0.0        Buxton Real Estate Mentone -37.961458   \n",
       "3          3     2   0.0                  MICM Real Estate -37.825362   \n",
       "4          2     2   0.0       Marshall White Port Phillip -37.937024   \n",
       "\n",
       "    Longitude   Distance  \n",
       "0  144.897345   6.054337  \n",
       "1  144.951109   3.158503  \n",
       "2  145.047628  17.977853  \n",
       "3  144.964020   1.241866  \n",
       "4  145.006746  14.185577  "
      ]
     },
     "execution_count": 2,
     "metadata": {},
     "output_type": "execute_result"
    }
   ],
   "source": [
    "# Import data from CSV into pandas DF\n",
    "df= pd.read_csv(f\"data/{city}/{city}_area.csv\")\n",
    "# Check if there any NULL or NaN values\n",
    "df.isnull().sum()\n",
    "# Drop any NA values\n",
    "df = df.dropna(how='any',axis=0)\n",
    "# Check that there is no longer Null values\n",
    "df.isnull().sum()\n",
    "# Look at DF to get a feel of data\n",
    "df.head()\n"
   ]
  },
  {
   "cell_type": "code",
   "execution_count": 3,
   "metadata": {},
   "outputs": [],
   "source": [
    "df['Date']= df['Date'].astype('datetime64[ns]')\n",
    "df['Year'] = df['Date'].dt.year\n",
    "df.info()\n"
   ]
  },
  {
   "cell_type": "markdown",
   "metadata": {},
   "source": [
    "<h5> 1. Define Numeric, Categorical & Features that need to be dropped\n",
    "<h5> 2. Performing ONE HOT ENCODING on CATEGORICAL features\n",
    "<h5> 3. Drop unwanted features </h5>\n",
    "\n",
    "\n"
   ]
  },
  {
   "cell_type": "code",
   "execution_count": 4,
   "metadata": {},
   "outputs": [
    {
     "data": {
      "text/html": [
       "<div>\n",
       "<style scoped>\n",
       "    .dataframe tbody tr th:only-of-type {\n",
       "        vertical-align: middle;\n",
       "    }\n",
       "\n",
       "    .dataframe tbody tr th {\n",
       "        vertical-align: top;\n",
       "    }\n",
       "\n",
       "    .dataframe thead th {\n",
       "        text-align: right;\n",
       "    }\n",
       "</style>\n",
       "<table border=\"1\" class=\"dataframe\">\n",
       "  <thead>\n",
       "    <tr style=\"text-align: right;\">\n",
       "      <th></th>\n",
       "      <th>Suburb</th>\n",
       "      <th>Type</th>\n",
       "      <th>Method</th>\n",
       "      <th>Price</th>\n",
       "      <th>Bedrooms</th>\n",
       "      <th>Bathrooms</th>\n",
       "      <th>Cars</th>\n",
       "      <th>Area</th>\n",
       "      <th>Latitude</th>\n",
       "      <th>Longitude</th>\n",
       "      <th>Distance</th>\n",
       "      <th>Year</th>\n",
       "    </tr>\n",
       "  </thead>\n",
       "  <tbody>\n",
       "    <tr>\n",
       "      <th>0</th>\n",
       "      <td>FOOTSCRAY</td>\n",
       "      <td>House</td>\n",
       "      <td>private treaty</td>\n",
       "      <td>455</td>\n",
       "      <td>2</td>\n",
       "      <td>1</td>\n",
       "      <td>1</td>\n",
       "      <td>0.0</td>\n",
       "      <td>-37.798134</td>\n",
       "      <td>144.897345</td>\n",
       "      <td>6.054337</td>\n",
       "      <td>2022</td>\n",
       "    </tr>\n",
       "    <tr>\n",
       "      <th>1</th>\n",
       "      <td>ALBERT PARK</td>\n",
       "      <td>House</td>\n",
       "      <td>auction</td>\n",
       "      <td>2270000</td>\n",
       "      <td>2</td>\n",
       "      <td>1</td>\n",
       "      <td>1</td>\n",
       "      <td>0.0</td>\n",
       "      <td>-37.840971</td>\n",
       "      <td>144.951109</td>\n",
       "      <td>3.158503</td>\n",
       "      <td>2021</td>\n",
       "    </tr>\n",
       "    <tr>\n",
       "      <th>2</th>\n",
       "      <td>CHELTENHAM</td>\n",
       "      <td>House</td>\n",
       "      <td>auction</td>\n",
       "      <td>2260000</td>\n",
       "      <td>4</td>\n",
       "      <td>2</td>\n",
       "      <td>2</td>\n",
       "      <td>0.0</td>\n",
       "      <td>-37.961458</td>\n",
       "      <td>145.047628</td>\n",
       "      <td>17.977853</td>\n",
       "      <td>2021</td>\n",
       "    </tr>\n",
       "    <tr>\n",
       "      <th>3</th>\n",
       "      <td>SOUTHBANK</td>\n",
       "      <td>Apartment</td>\n",
       "      <td>private treaty</td>\n",
       "      <td>2280000</td>\n",
       "      <td>3</td>\n",
       "      <td>3</td>\n",
       "      <td>2</td>\n",
       "      <td>0.0</td>\n",
       "      <td>-37.825362</td>\n",
       "      <td>144.964020</td>\n",
       "      <td>1.241866</td>\n",
       "      <td>2022</td>\n",
       "    </tr>\n",
       "    <tr>\n",
       "      <th>4</th>\n",
       "      <td>HAMPTON</td>\n",
       "      <td>House</td>\n",
       "      <td>auction</td>\n",
       "      <td>2262000</td>\n",
       "      <td>4</td>\n",
       "      <td>2</td>\n",
       "      <td>2</td>\n",
       "      <td>0.0</td>\n",
       "      <td>-37.937024</td>\n",
       "      <td>145.006746</td>\n",
       "      <td>14.185577</td>\n",
       "      <td>2021</td>\n",
       "    </tr>\n",
       "  </tbody>\n",
       "</table>\n",
       "</div>"
      ],
      "text/plain": [
       "        Suburb        Type          Method    Price  Bedrooms  Bathrooms  \\\n",
       "0    FOOTSCRAY       House  private treaty      455         2          1   \n",
       "1  ALBERT PARK       House         auction  2270000         2          1   \n",
       "2   CHELTENHAM       House         auction  2260000         4          2   \n",
       "3    SOUTHBANK  Apartment   private treaty  2280000         3          3   \n",
       "4      HAMPTON       House         auction  2262000         4          2   \n",
       "\n",
       "   Cars  Area   Latitude   Longitude   Distance  Year  \n",
       "0     1   0.0 -37.798134  144.897345   6.054337  2022  \n",
       "1     1   0.0 -37.840971  144.951109   3.158503  2021  \n",
       "2     2   0.0 -37.961458  145.047628  17.977853  2021  \n",
       "3     2   0.0 -37.825362  144.964020   1.241866  2022  \n",
       "4     2   0.0 -37.937024  145.006746  14.185577  2021  "
      ]
     },
     "execution_count": 4,
     "metadata": {},
     "output_type": "execute_result"
    }
   ],
   "source": [
    "# Above there is a combination of categorical & numerical features with 'Price' being the label. We will need to classify the \n",
    "# features into the following:\n",
    "drop_cat = False\n",
    "\n",
    "num_feat = ['Bedrooms','Bathrooms','Cars','Area','Latitude','Longitude','Distance','Year']\n",
    "cat_feat = ['Suburb','Type','Method']\n",
    "drop_feat = ['Street','Address','State','Postcode','Agent','Date']\n",
    "\n",
    "# Drop features that are not required\n",
    "if set(drop_feat).issubset(df.columns):\n",
    "  df = df.drop(drop_feat, axis = 1)  \n",
    "df.head()"
   ]
  },
  {
   "cell_type": "markdown",
   "metadata": {},
   "source": [
    "<H4> EXPLORATORY DATA ANALYSIS (EDA) </H4>"
   ]
  },
  {
   "cell_type": "markdown",
   "metadata": {},
   "source": [
    "Explore Relationships between Numerical Features & Price (label)"
   ]
  },
  {
   "cell_type": "code",
   "execution_count": null,
   "metadata": {},
   "outputs": [],
   "source": [
    "sns.pairplot(data = df, y_vars= ['Price'], x_vars = num_feat)"
   ]
  },
  {
   "cell_type": "markdown",
   "metadata": {},
   "source": [
    "Using Pandas statistics to look for Outliers"
   ]
  },
  {
   "cell_type": "markdown",
   "metadata": {},
   "source": [
    "Filter out Outliers using either Z Score Method (normal discribution) or IQR method."
   ]
  },
  {
   "cell_type": "code",
   "execution_count": 5,
   "metadata": {},
   "outputs": [],
   "source": [
    "method = 'Zscore'\n",
    "# Interquartile range (IQR) method should be used for NON normal distribution\n",
    "\n",
    "def remove_outlier(df_in, col_name):\n",
    "    q1 = df_in[col_name].quantile(0.25)\n",
    "    q3 = df_in[col_name].quantile(0.75)\n",
    "    iqr = q3-q1 #Interquartile range\n",
    "    fence_low  = q1-1.5*iqr\n",
    "    fence_high = q3+1.5*iqr\n",
    "    df_out = df_in.loc[(df_in[col_name] > fence_low) & (df_in[col_name] < fence_high)]\n",
    "    return df_out\n",
    "\n",
    "if method == 'Zscore':\n",
    "  df = df[(np.abs(stats.zscore(df['Price'])) < 3)]\n",
    "  df = df[(np.abs(stats.zscore(df[num_feat])) < 3).all(axis=1)]\n",
    "  \n",
    "else:\n",
    "  remove_outlier(df, num_feat)\n"
   ]
  },
  {
   "cell_type": "markdown",
   "metadata": {},
   "source": [
    "Confirm that Outliers have been removed"
   ]
  },
  {
   "cell_type": "code",
   "execution_count": null,
   "metadata": {},
   "outputs": [],
   "source": [
    "df.describe()"
   ]
  },
  {
   "cell_type": "code",
   "execution_count": null,
   "metadata": {},
   "outputs": [],
   "source": [
    "sns.pairplot(data = df,y_vars=['Price'],x_vars=num_feat)"
   ]
  },
  {
   "cell_type": "markdown",
   "metadata": {},
   "source": [
    "<H4> Plot of Lattitude & longitude showing pricing in each location</H4>\n",
    "Observe that suburbs closer to the city centre generally are more expensive"
   ]
  },
  {
   "cell_type": "code",
   "execution_count": null,
   "metadata": {},
   "outputs": [],
   "source": [
    "plt.scatter(x = df['Longitude'], y = df['Latitude'],c =df['Price'],alpha=0.8,s=df['Price']/50000,cmap='nipy_spectral' )"
   ]
  },
  {
   "cell_type": "markdown",
   "metadata": {},
   "source": [
    "Data Splitting into TRAIN,VALIDATION & TEST DF using Scikit Learn function"
   ]
  },
  {
   "cell_type": "code",
   "execution_count": 6,
   "metadata": {},
   "outputs": [
    {
     "name": "stdout",
     "output_type": "stream",
     "text": [
      "35857 train examples\n",
      "8965 validation examples\n",
      "11206 test examples\n"
     ]
    }
   ],
   "source": [
    "# Let's split the dataset into train, validation, and test sets as Pandas DF format\n",
    "train, test = train_test_split(df, test_size=0.2,random_state=42)\n",
    "train, val = train_test_split(train, test_size=0.2,random_state=42)\n",
    "\n",
    "Y_test = test['Price']\n",
    "\n",
    "print(len(train), 'train examples')\n",
    "print(len(val), 'validation examples')\n",
    "print(len(test), 'test examples')"
   ]
  },
  {
   "cell_type": "code",
   "execution_count": 7,
   "metadata": {},
   "outputs": [],
   "source": [
    "# 'get_scal' function takes a list of numerical features and returns a 'minmax' function\n",
    "# 'Minmax' function itself takes a 'numerical' number from a particular feature and return scaled value of that number.\n",
    "# Scalar def get_scal(feature):\n",
    "# TODO 1d\n",
    "def get_scal(feature):\n",
    "    def minmax(x):\n",
    "        mini = train[feature].min()\n",
    "        maxi = train[feature].max()\n",
    "        return (x - mini)/(maxi-mini)\n",
    "        return(minmax)"
   ]
  },
  {
   "cell_type": "code",
   "execution_count": 28,
   "metadata": {},
   "outputs": [],
   "source": [
    "feature_columns = []\n",
    "\n",
    "# Numeric columns with Normalization\n",
    "for header in num_feat:\n",
    "    scal_input_fn = get_scal(header)\n",
    "    feature_columns.append(fc.numeric_column(header,normalizer_fn=scal_input_fn))\n",
    "\n",
    "# Categorical features with One Hot Encoding\n",
    "Type = fc.categorical_column_with_vocabulary_list('Type', df.Type.unique())\n",
    "Type_ohe = fc.indicator_column(Type)\n",
    "feature_columns.append(Type_ohe)\n",
    "\n",
    "Method = fc.categorical_column_with_vocabulary_list('Method', df.Method.unique())\n",
    "Method_ohe = fc.indicator_column(Method)\n",
    "feature_columns.append(Method_ohe)\n",
    "\n",
    "\n",
    "# Embedding categorical column with MANY unique values\n",
    "Suburb = fc.categorical_column_with_vocabulary_list('Suburb', df.Suburb.unique())\n",
    "Suburb_embedded = fc.embedding_column(Suburb, dimension=70)\n",
    "feature_columns.append(Suburb_embedded)"
   ]
  },
  {
   "cell_type": "code",
   "execution_count": 9,
   "metadata": {},
   "outputs": [
    {
     "name": "stderr",
     "output_type": "stream",
     "text": [
      "2022-08-03 02:09:40.188559: W tensorflow/stream_executor/platform/default/dso_loader.cc:64] Could not load dynamic library 'libcuda.so.1'; dlerror: libcuda.so.1: cannot open shared object file: No such file or directory\n",
      "2022-08-03 02:09:40.188730: W tensorflow/stream_executor/cuda/cuda_driver.cc:269] failed call to cuInit: UNKNOWN ERROR (303)\n",
      "2022-08-03 02:09:40.188773: I tensorflow/stream_executor/cuda/cuda_diagnostics.cc:156] kernel driver does not appear to be running on this host (DESKTOP-MM57QPP): /proc/driver/nvidia/version does not exist\n",
      "2022-08-03 02:09:40.193665: I tensorflow/core/platform/cpu_feature_guard.cc:193] This TensorFlow binary is optimized with oneAPI Deep Neural Network Library (oneDNN) to use the following CPU instructions in performance-critical operations:  AVX2 AVX512F AVX512_VNNI FMA\n",
      "To enable them in other operations, rebuild TensorFlow with the appropriate compiler flags.\n"
     ]
    }
   ],
   "source": [
    "def df_to_dataset(dataframe, shuffle=True, batch_size=32):\n",
    "  dataframe = dataframe.copy()\n",
    "  labels = dataframe.pop('Price')\n",
    "  ds = tf.data.Dataset.from_tensor_slices((dict(dataframe), labels))\n",
    "  if shuffle:\n",
    "    ds = ds.shuffle(buffer_size=len(dataframe))\n",
    "  ds = ds.batch(batch_size)\n",
    "  return ds\n",
    "\n",
    "\n",
    "batch_size = 32 # A small batch sized is used for demonstration purposes\n",
    "train_ds = df_to_dataset(train, batch_size=batch_size)\n",
    "val_ds = df_to_dataset(val, shuffle=False, batch_size=batch_size)\n",
    "test_ds = df_to_dataset(test, shuffle=False, batch_size=batch_size)"
   ]
  },
  {
   "cell_type": "markdown",
   "metadata": {},
   "source": [
    "Defining a normalization/scaling function to be used for numerical features"
   ]
  },
  {
   "cell_type": "markdown",
   "metadata": {},
   "source": [
    "Normalizing the Training Data,Valuation & test Numerical Features"
   ]
  },
  {
   "cell_type": "markdown",
   "metadata": {},
   "source": [
    "<h3> Defining & Training a Tensorflow Sequential Regression DNN model.</h3>"
   ]
  },
  {
   "cell_type": "code",
   "execution_count": 10,
   "metadata": {},
   "outputs": [
    {
     "name": "stdout",
     "output_type": "stream",
     "text": [
      "WARNING:tensorflow:Layers in a Sequential model should only have a single input tensor. Received: inputs={'Suburb': <tf.Tensor 'IteratorGetNext:8' shape=(None,) dtype=string>, 'Type': <tf.Tensor 'IteratorGetNext:9' shape=(None,) dtype=string>, 'Method': <tf.Tensor 'IteratorGetNext:7' shape=(None,) dtype=string>, 'Bedrooms': <tf.Tensor 'IteratorGetNext:2' shape=(None,) dtype=int64>, 'Bathrooms': <tf.Tensor 'IteratorGetNext:1' shape=(None,) dtype=int64>, 'Cars': <tf.Tensor 'IteratorGetNext:3' shape=(None,) dtype=int64>, 'Area': <tf.Tensor 'IteratorGetNext:0' shape=(None,) dtype=float64>, 'Latitude': <tf.Tensor 'IteratorGetNext:5' shape=(None,) dtype=float64>, 'Longitude': <tf.Tensor 'IteratorGetNext:6' shape=(None,) dtype=float64>, 'Distance': <tf.Tensor 'IteratorGetNext:4' shape=(None,) dtype=float64>, 'Year': <tf.Tensor 'IteratorGetNext:10' shape=(None,) dtype=int64>}. Consider rewriting this model with the Functional API.\n",
      "WARNING:tensorflow:Layers in a Sequential model should only have a single input tensor. Received: inputs={'Suburb': <tf.Tensor 'IteratorGetNext:8' shape=(None,) dtype=string>, 'Type': <tf.Tensor 'IteratorGetNext:9' shape=(None,) dtype=string>, 'Method': <tf.Tensor 'IteratorGetNext:7' shape=(None,) dtype=string>, 'Bedrooms': <tf.Tensor 'IteratorGetNext:2' shape=(None,) dtype=int64>, 'Bathrooms': <tf.Tensor 'IteratorGetNext:1' shape=(None,) dtype=int64>, 'Cars': <tf.Tensor 'IteratorGetNext:3' shape=(None,) dtype=int64>, 'Area': <tf.Tensor 'IteratorGetNext:0' shape=(None,) dtype=float64>, 'Latitude': <tf.Tensor 'IteratorGetNext:5' shape=(None,) dtype=float64>, 'Longitude': <tf.Tensor 'IteratorGetNext:6' shape=(None,) dtype=float64>, 'Distance': <tf.Tensor 'IteratorGetNext:4' shape=(None,) dtype=float64>, 'Year': <tf.Tensor 'IteratorGetNext:10' shape=(None,) dtype=int64>}. Consider rewriting this model with the Functional API.\n",
      "1118/1121 [============================>.] - ETA: 0s - loss: 638478909440.0000 - mse: 638478909440.0000WARNING:tensorflow:Layers in a Sequential model should only have a single input tensor. Received: inputs={'Suburb': <tf.Tensor 'IteratorGetNext:8' shape=(None,) dtype=string>, 'Type': <tf.Tensor 'IteratorGetNext:9' shape=(None,) dtype=string>, 'Method': <tf.Tensor 'IteratorGetNext:7' shape=(None,) dtype=string>, 'Bedrooms': <tf.Tensor 'IteratorGetNext:2' shape=(None,) dtype=int64>, 'Bathrooms': <tf.Tensor 'IteratorGetNext:1' shape=(None,) dtype=int64>, 'Cars': <tf.Tensor 'IteratorGetNext:3' shape=(None,) dtype=int64>, 'Area': <tf.Tensor 'IteratorGetNext:0' shape=(None,) dtype=float64>, 'Latitude': <tf.Tensor 'IteratorGetNext:5' shape=(None,) dtype=float64>, 'Longitude': <tf.Tensor 'IteratorGetNext:6' shape=(None,) dtype=float64>, 'Distance': <tf.Tensor 'IteratorGetNext:4' shape=(None,) dtype=float64>, 'Year': <tf.Tensor 'IteratorGetNext:10' shape=(None,) dtype=int64>}. Consider rewriting this model with the Functional API.\n",
      "1121/1121 [==============================] - 15s 11ms/step - loss: 637960192000.0000 - mse: 637960192000.0000 - val_loss: 426835673088.0000 - val_mse: 426835673088.0000\n"
     ]
    }
   ],
   "source": [
    "# Model create\n",
    "feature_layer = tf.keras.layers.DenseFeatures(feature_columns)\n",
    "# `tf.keras.Sequential()` groups a linear stack of layers into a tf.keras.Model.\n",
    "model = tf.keras.Sequential([\n",
    "  feature_layer,\n",
    "  layers.Dense(256, activation='relu'),\n",
    "  layers.Dense(128, activation='relu'),\n",
    "  layers.Dense(64, activation='relu'),\n",
    "  layers.Dense(1, activation='linear',  name='Price')\n",
    "])\n",
    "\n",
    "# Model compile\n",
    "model.compile(optimizer='adam',\n",
    "              loss='mse',\n",
    "              metrics=['mse'])\n",
    "\n",
    "# Model Fit\n",
    "history = model.fit(train_ds, validation_data = val_ds, epochs=20)\n",
    "\n"
   ]
  },
  {
   "cell_type": "markdown",
   "metadata": {},
   "source": [
    "<h4> Evaluating trained model performance using EVALUATION data </h4>"
   ]
  },
  {
   "cell_type": "code",
   "execution_count": 11,
   "metadata": {},
   "outputs": [
    {
     "name": "stdout",
     "output_type": "stream",
     "text": [
      "281/281 [==============================] - 3s 9ms/step - loss: 426835673088.0000 - mse: 426835673088.0000\n",
      "Mean Squared Error 426835673088.0\n",
      "Root MEAN SQUARE ERROR $ 653326.6205260581\n"
     ]
    }
   ],
   "source": [
    "loss, mse = model.evaluate(val_ds)\n",
    "print(\"Mean Squared Error\", mse)\n",
    "print(\"Root MEAN SQUARE ERROR $\",np.sqrt(mse))"
   ]
  },
  {
   "cell_type": "markdown",
   "metadata": {},
   "source": [
    "<h4> PLOTTING OF LOSS/MSE for TRAINING & EVALUATION DATA  </h4>\n",
    "Useful to determine underfitting/overfitting as well as optimal number of epcochs for training"
   ]
  },
  {
   "cell_type": "code",
   "execution_count": 12,
   "metadata": {},
   "outputs": [
    {
     "data": {
      "image/png": "[encoded data removed]",
      "text/plain": [
       "<Figure size 720x360 with 2 Axes>"
      ]
     },
     "metadata": {
      "needs_background": "light"
     },
     "output_type": "display_data"
    }
   ],
   "source": [
    "# Use matplotlib to draw the model's loss curves for training and validation\n",
    "def plot_curves(history, metrics):\n",
    "    nrows = 1\n",
    "    ncols = 2\n",
    "    fig = plt.figure(figsize=(10, 5))\n",
    "\n",
    "    for idx, key in enumerate(metrics):  \n",
    "        ax = fig.add_subplot(nrows, ncols, idx+1)\n",
    "        plt.plot(history.history[key])\n",
    "        plt.plot(history.history['val_{}'.format(key)])\n",
    "        plt.title('model {}'.format(key))\n",
    "        plt.ylabel(key)\n",
    "        plt.xlabel('epoch')\n",
    "        plt.legend(['train', 'validation'], loc='upper left');\n",
    "\n",
    "# Plotting\n",
    "plot_curves(history, ['loss', 'mse'])"
   ]
  },
  {
   "cell_type": "markdown",
   "metadata": {},
   "source": [
    "<H3> PREDICTION </H3>\n",
    "<h4>Using TEST data to make PRICE prediction & compare ACTUAL vs PREDICTED</h4>\n",
    " "
   ]
  },
  {
   "cell_type": "code",
   "execution_count": 46,
   "metadata": {},
   "outputs": [
    {
     "name": "stdout",
     "output_type": "stream",
     "text": [
      "Index(['Suburb', 'Type', 'Method', 'Price', 'Bedrooms', 'Bathrooms', 'Cars',\n",
      "       'Area', 'Latitude', 'Longitude', 'Distance', 'Year'],\n",
      "      dtype='object')\n",
      "1/1 [==============================] - 0s 39ms/step\n",
      "[[1251948.8]]\n"
     ]
    }
   ],
   "source": [
    "inp = {'Suburb':'BRUNSWICK EAST','Type': 'House','Method': 'auction','Bedrooms':  4, 'Bathrooms':  2, 'Cars':  1, 'Area':  450,'Latitude':  -37.76982778,'Longitude':  144.9784421,'Distance':  5.116915017, 'Year':  2022}\n",
    "input_df = pd.DataFrame.from_dict(inp)\n",
    "inp_ds = tf.data.Dataset.from_tensor_slices((dict(input_df)))\n",
    "inp_ds = inp_ds.batch(1)\n",
    "\n",
    "pred = model.predict(inp_ds)\n",
    "print(pred)"
   ]
  },
  {
   "cell_type": "code",
   "execution_count": null,
   "metadata": {},
   "outputs": [],
   "source": [
    "predictions = model.predict(test_ds)\n",
    "print(predictions[1])\n",
    "\n",
    "#\n",
    "for i in range(50):\n",
    "    diff = (predictions[i][0] - test['Price'].iloc[i])/1000\n",
    "    print('PREDICTION: ${0}'.format(predictions[i][0]) + '   ACTUAL: '+format(test['Price'].iloc[i]) + f' DIFFERENCE: ${diff}')\n",
    "\n",
    "\n",
    "\n",
    "plt.scatter(test['Price'].iloc[0:2000],predictions[0:2000])\n",
    "plt.title(\"ACTUAL VS PREDICTED PRICE\")\n",
    "plt.xlabel(\"ACTUAL PRICE: $\")\n",
    "plt.ylabel(\"PREDICATED PRICE: $\")"
   ]
  },
  {
   "cell_type": "markdown",
   "metadata": {},
   "source": [
    "<h5> SAVE MODEL </h5>"
   ]
  },
  {
   "cell_type": "code",
   "execution_count": null,
   "metadata": {},
   "outputs": [],
   "source": [
    "model.save(f\"saved_models/{city}/1\")"
   ]
  },
  {
   "cell_type": "markdown",
   "metadata": {},
   "source": [
    "<h4> SERVE MODEL</h4>\n",
    "<h5> RUN TF SERVING DOCKER CONTAINER </h5>"
   ]
  },
  {
   "cell_type": "code",
   "execution_count": 34,
   "metadata": {},
   "outputs": [
    {
     "name": "stdout",
     "output_type": "stream",
     "text": [
      "ExecResult(exit_code=0, output=b'bin\\nboot\\ndev\\netc\\nhome\\nlib\\nlib64\\nmedia\\nmnt\\nmodels\\nopt\\nproc\\nroot\\nrun\\nsbin\\nsrv\\nsys\\ntf_serving\\ntmp\\nusr\\nvar\\n')\n"
     ]
    },
    {
     "data": {
      "text/plain": [
       "ExecResult(exit_code=None, output='')"
      ]
     },
     "execution_count": 34,
     "metadata": {},
     "output_type": "execute_result"
    }
   ],
   "source": [
    "#docker run -it -v /home/khaled/AUTOMATION-EXCEL\\:/tf_serving -p 8601:8601 --entrypoint /bin/bash tensorflow/serving\n",
    "#tensorflow_model_server --rest_api_port=8601 --model_name=melb_price --model_base_path=/tf_serving/saved_models/\n",
    "\n",
    "client = docker.from_env()\n",
    "container = client.containers.run(image = \"tensorflow/serving\", ports = {8601:8601},volumes = ['/home/khaled/MLrealestate:/tf_serving'], detach=True)\n",
    "container.exec_run('/bin/bash')\n",
    "print(container.exec_run('ls'))\n",
    "container.exec_run('tensorflow_model_server --rest_api_port=8601 --model_name=real_estate_price_est --model_base_path=/tf_serving/saved_models/',detach = True)"
   ]
  },
  {
   "cell_type": "code",
   "execution_count": null,
   "metadata": {},
   "outputs": [],
   "source": [
    "iterator = examples['train_ds'].__iter__()\n",
    "next_element = iterator.get_next()\n",
    "pt = next_element[0]\n",
    "en = next_element[1]\n",
    "print(pt.numpy())\n",
    "print(en.numpy())"
   ]
  },
  {
   "cell_type": "code",
   "execution_count": 47,
   "metadata": {},
   "outputs": [
    {
     "data": {
      "text/html": [
       "<div>\n",
       "<style scoped>\n",
       "    .dataframe tbody tr th:only-of-type {\n",
       "        vertical-align: middle;\n",
       "    }\n",
       "\n",
       "    .dataframe tbody tr th {\n",
       "        vertical-align: top;\n",
       "    }\n",
       "\n",
       "    .dataframe thead th {\n",
       "        text-align: right;\n",
       "    }\n",
       "</style>\n",
       "<table border=\"1\" class=\"dataframe\">\n",
       "  <thead>\n",
       "    <tr style=\"text-align: right;\">\n",
       "      <th></th>\n",
       "      <th>Suburb</th>\n",
       "      <th>Type</th>\n",
       "      <th>Method</th>\n",
       "      <th>Price</th>\n",
       "      <th>Bedrooms</th>\n",
       "      <th>Bathrooms</th>\n",
       "      <th>Cars</th>\n",
       "      <th>Area</th>\n",
       "      <th>Latitude</th>\n",
       "      <th>Longitude</th>\n",
       "      <th>Distance</th>\n",
       "      <th>Year</th>\n",
       "    </tr>\n",
       "  </thead>\n",
       "  <tbody>\n",
       "    <tr>\n",
       "      <th>28547</th>\n",
       "      <td>POINT COOK</td>\n",
       "      <td>Townhouse</td>\n",
       "      <td>private treaty</td>\n",
       "      <td>502000</td>\n",
       "      <td>3</td>\n",
       "      <td>2</td>\n",
       "      <td>1</td>\n",
       "      <td>163.0</td>\n",
       "      <td>-37.892656</td>\n",
       "      <td>144.747233</td>\n",
       "      <td>20.874578</td>\n",
       "      <td>2022</td>\n",
       "    </tr>\n",
       "    <tr>\n",
       "      <th>9909</th>\n",
       "      <td>AINTREE</td>\n",
       "      <td>House</td>\n",
       "      <td>private treaty</td>\n",
       "      <td>825000</td>\n",
       "      <td>4</td>\n",
       "      <td>2</td>\n",
       "      <td>2</td>\n",
       "      <td>0.0</td>\n",
       "      <td>-37.717471</td>\n",
       "      <td>144.656277</td>\n",
       "      <td>29.050648</td>\n",
       "      <td>2022</td>\n",
       "    </tr>\n",
       "    <tr>\n",
       "      <th>24801</th>\n",
       "      <td>MOONEE PONDS</td>\n",
       "      <td>Townhouse</td>\n",
       "      <td>private treaty</td>\n",
       "      <td>1200000</td>\n",
       "      <td>3</td>\n",
       "      <td>3</td>\n",
       "      <td>2</td>\n",
       "      <td>0.0</td>\n",
       "      <td>-37.762071</td>\n",
       "      <td>144.922196</td>\n",
       "      <td>6.827107</td>\n",
       "      <td>2022</td>\n",
       "    </tr>\n",
       "    <tr>\n",
       "      <th>9950</th>\n",
       "      <td>IVANHOE</td>\n",
       "      <td>Townhouse</td>\n",
       "      <td>auction</td>\n",
       "      <td>1680000</td>\n",
       "      <td>4</td>\n",
       "      <td>2</td>\n",
       "      <td>2</td>\n",
       "      <td>0.0</td>\n",
       "      <td>-37.766934</td>\n",
       "      <td>145.040037</td>\n",
       "      <td>8.562904</td>\n",
       "      <td>2022</td>\n",
       "    </tr>\n",
       "    <tr>\n",
       "      <th>34095</th>\n",
       "      <td>FAWKNER</td>\n",
       "      <td>House</td>\n",
       "      <td>auction</td>\n",
       "      <td>688000</td>\n",
       "      <td>3</td>\n",
       "      <td>1</td>\n",
       "      <td>3</td>\n",
       "      <td>338.0</td>\n",
       "      <td>-37.715212</td>\n",
       "      <td>144.965451</td>\n",
       "      <td>11.014163</td>\n",
       "      <td>2022</td>\n",
       "    </tr>\n",
       "  </tbody>\n",
       "</table>\n",
       "</div>"
      ],
      "text/plain": [
       "             Suburb       Type          Method    Price  Bedrooms  Bathrooms  \\\n",
       "28547    POINT COOK  Townhouse  private treaty   502000         3          2   \n",
       "9909        AINTREE      House  private treaty   825000         4          2   \n",
       "24801  MOONEE PONDS  Townhouse  private treaty  1200000         3          3   \n",
       "9950        IVANHOE  Townhouse         auction  1680000         4          2   \n",
       "34095       FAWKNER      House         auction   688000         3          1   \n",
       "\n",
       "       Cars   Area   Latitude   Longitude   Distance  Year  \n",
       "28547     1  163.0 -37.892656  144.747233  20.874578  2022  \n",
       "9909      2    0.0 -37.717471  144.656277  29.050648  2022  \n",
       "24801     2    0.0 -37.762071  144.922196   6.827107  2022  \n",
       "9950      2    0.0 -37.766934  145.040037   8.562904  2022  \n",
       "34095     3  338.0 -37.715212  144.965451  11.014163  2022  "
      ]
     },
     "execution_count": 47,
     "metadata": {},
     "output_type": "execute_result"
    }
   ],
   "source": [
    "input = list(inp.values())\n",
    "data = {\"instances\": [inp]}\n",
    "test.head(5)\n"
   ]
  },
  {
   "cell_type": "markdown",
   "metadata": {},
   "source": [
    "<h4> API CALL FOR PREDICTION</h4>\n",
    "<h5>  REST API POST for LOCAL TF SERVING CONTAINER - MODEL NAME: real_estate_est</h5>"
   ]
  },
  {
   "cell_type": "code",
   "execution_count": 49,
   "metadata": {},
   "outputs": [
    {
     "name": "stdout",
     "output_type": "stream",
     "text": [
      "{'predictions': [[1790207.25]]}\n"
     ]
    }
   ],
   "source": [
    "#%%bash\n",
    "#curl -d '{\"instances\": [[0.25,0.07553956834532373,0.0,0.25,0.0,0.1937046004842615,0.9103448275862069,0.516068393160683,0.4633053471477789,1.0]]}' \\\n",
    "#-X POST http://localhost:8601/v1/models/melb_price:predict\n",
    "\n",
    "r = requests.post(url=\"http://localhost:8601/v1/models/real_estate_price_est:predict\", data=json.dumps(data))\n",
    "print(r.json())"
   ]
  },
  {
   "cell_type": "code",
   "execution_count": null,
   "metadata": {},
   "outputs": [],
   "source": [
    "df= pd.read_csv('data/{city}/{city}_area.csv')\n",
    "#len(df['Suburb'].unique())\n",
    "df = df.drop_duplicates(subset=['Suburb','Type','Method'], keep='last')\n",
    "df.to_csv('data/{city}/{city}_template.csv',index = False)\n",
    "df.info()\n",
    "#df.head(20)"
   ]
  },
  {
   "cell_type": "code",
   "execution_count": null,
   "metadata": {},
   "outputs": [],
   "source": [
    "%%bash\n",
    "heroku container:login\n",
    "heroku container:push web -a tf-serve-model\n",
    "heroku container:release web -a tf-serve-model\n",
    "heroku logs -a tf-serve-model --tail"
   ]
  }
 ],
 "metadata": {
  "kernelspec": {
   "display_name": "Python 3.8.10 64-bit",
   "language": "python",
   "name": "python3"
  },
  "language_info": {
   "codemirror_mode": {
    "name": "ipython",
    "version": 3
   },
   "file_extension": ".py",
   "mimetype": "text/x-python",
   "name": "python",
   "nbconvert_exporter": "python",
   "pygments_lexer": "ipython3",
   "version": "3.8.10"
  },
  "orig_nbformat": 4,
  "vscode": {
   "interpreter": {
    "hash": "916dbcbb3f70747c44a77c7bcd40155683ae19c65e1c03b4aa3499c5328201f1"
   }
  }
 },
 "nbformat": 4,
 "nbformat_minor": 2
}
