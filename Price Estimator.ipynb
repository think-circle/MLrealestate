{
 "cells": [
  {
   "cell_type": "markdown",
   "metadata": {},
   "source": [
    "<B><H2> MELBOURNE HOUSE PRICE ESTIMATOR </H2></B><H5>TENSORFLOW REGRESSION SEQUENTIAL DNN MODEL</H5>\n"
   ]
  },
  {
   "cell_type": "code",
   "execution_count": 1,
   "metadata": {},
   "outputs": [
    {
     "name": "stderr",
     "output_type": "stream",
     "text": [
      "2022-07-29 03:47:28.088371: I tensorflow/core/util/util.cc:169] oneDNN custom operations are on. You may see slightly different numerical results due to floating-point round-off errors from different computation orders. To turn them off, set the environment variable `TF_ENABLE_ONEDNN_OPTS=0`.\n",
      "2022-07-29 03:47:28.240276: W tensorflow/stream_executor/platform/default/dso_loader.cc:64] Could not load dynamic library 'libcudart.so.11.0'; dlerror: libcudart.so.11.0: cannot open shared object file: No such file or directory\n",
      "2022-07-29 03:47:28.240343: I tensorflow/stream_executor/cuda/cudart_stub.cc:29] Ignore above cudart dlerror if you do not have a GPU set up on your machine.\n"
     ]
    }
   ],
   "source": [
    "import docker\n",
    "import requests\n",
    "import json\n",
    "import numpy as np\n",
    "import pandas as pd\n",
    "\n",
    "\n",
    "\n",
    "#TENSORFLOW API\n",
    "import tensorflow as tf\n",
    "import tensorflow_data_validation as tfdv\n",
    "# Feature Engineering\n",
    "from tensorflow import feature_column as fc\n",
    "from keras.models import Sequential\n",
    "from keras import layers\n",
    "from keras import utils\n",
    "# TF Dataset for input pipeline\n",
    "import tensorflow_datasets as tfds\n",
    "\n",
    "# VISUALISATION API\n",
    "import matplotlib.pyplot as plt\n",
    "import seaborn as sns # Seaborn is a Python data visualization library based on matplotlib.\n",
    "\n",
    "# Import train_test_split function from sklearn.model_selection\n",
    "from sklearn.model_selection import train_test_split\n",
    "\n",
    "# Used to calculate stats such as Z score, standard deviation etc.\n",
    "from scipy import stats\n"
   ]
  },
  {
   "cell_type": "markdown",
   "metadata": {},
   "source": [
    "<H5> READ THE DATA INTO PANDAS DATAFRAME.</H5> Remove any NULL values"
   ]
  },
  {
   "cell_type": "code",
   "execution_count": null,
   "metadata": {},
   "outputs": [],
   "source": [
    "# Import data from CSV into pandas DF\n",
    "df= pd.read_csv('data/Melbourne/Melbourne_area.csv')\n",
    "# Check if there any NULL or NaN values\n",
    "df.isnull().sum()\n",
    "# Drop any NA values\n",
    "df = df.dropna(how='any',axis=0)\n",
    "# Check that there is no longer Null values\n",
    "df.isnull().sum()\n",
    "# Look at DF to get a feel of data\n",
    "df.head(2)\n"
   ]
  },
  {
   "cell_type": "code",
   "execution_count": null,
   "metadata": {},
   "outputs": [],
   "source": [
    "df.info()"
   ]
  },
  {
   "cell_type": "markdown",
   "metadata": {},
   "source": [
    "<h5> 1. Define Numeric, Categorical & Features that need to be dropped\n",
    "<h5> 2. Performing ONE HOT ENCODING on CATEGORICAL features\n",
    "<h5> 3. Drop unwanted features </h5>\n",
    "\n",
    "\n"
   ]
  },
  {
   "cell_type": "code",
   "execution_count": null,
   "metadata": {},
   "outputs": [],
   "source": [
    "# Above there is a combination of categorical & numerical features with 'Price' being the label. We will need to classify the \n",
    "# features into the following:\n",
    "drop_cat = False\n",
    "\n",
    "num_feat = ['Bedrooms','Bathrooms','Cars','Area','Latitude','Longitude','Distance']\n",
    "cat_feat = ['Suburb','Type','Method']\n",
    "drop_feat = ['Street','Address','State','Postcode','Date','Agent']\n",
    "\n",
    "# Drop features that are not required\n",
    "if set(drop_feat).issubset(df.columns):\n",
    "  df = df.drop(drop_feat, axis = 1)\n",
    "  if drop_cat:\n",
    "    if set(cat_feat).issubset(df.columns):\n",
    "      df = df.drop(cat_feat, axis = 1)\n",
    "  else:\n",
    "     for feat in cat_feat:\n",
    "       dummy = pd.get_dummies(df[feat], prefix=feat)\n",
    "       df = pd.merge(left=df,right=dummy,left_index=True,right_index=True,)\n",
    "     df = df.drop(cat_feat, axis = 1)\n",
    "\n",
    "\n",
    "\n",
    "df.head()"
   ]
  },
  {
   "cell_type": "markdown",
   "metadata": {},
   "source": [
    "<H4> EXPLORATORY DATA ANALYSIS (EDA) </H4>"
   ]
  },
  {
   "cell_type": "markdown",
   "metadata": {},
   "source": [
    "Explore Relationships between Numerical Features & Price (label)"
   ]
  },
  {
   "cell_type": "code",
   "execution_count": null,
   "metadata": {},
   "outputs": [],
   "source": [
    "sns.pairplot(data = df, y_vars= ['Price'], x_vars = num_feat)"
   ]
  },
  {
   "cell_type": "markdown",
   "metadata": {},
   "source": [
    "Using Pandas statistics to look for Outliers"
   ]
  },
  {
   "cell_type": "markdown",
   "metadata": {},
   "source": [
    "Filter out Outliers using either Z Score Method (normal discribution) or IQR method."
   ]
  },
  {
   "cell_type": "code",
   "execution_count": null,
   "metadata": {},
   "outputs": [],
   "source": [
    "method = 'Zscore'\n",
    "# Interquartile range (IQR) method should be used for NON normal distribution\n",
    "\n",
    "def remove_outlier(df_in, col_name):\n",
    "    q1 = df_in[col_name].quantile(0.25)\n",
    "    q3 = df_in[col_name].quantile(0.75)\n",
    "    iqr = q3-q1 #Interquartile range\n",
    "    fence_low  = q1-1.5*iqr\n",
    "    fence_high = q3+1.5*iqr\n",
    "    df_out = df_in.loc[(df_in[col_name] > fence_low) & (df_in[col_name] < fence_high)]\n",
    "    return df_out\n",
    "\n",
    "if method == 'Zscore':\n",
    "  df = df[(np.abs(stats.zscore(df[num_feat])) < 3).all(axis=1)]\n",
    "else:\n",
    "  remove_outlier(df, num_feat)\n"
   ]
  },
  {
   "cell_type": "markdown",
   "metadata": {},
   "source": [
    "Confirm that Outliers have been removed"
   ]
  },
  {
   "cell_type": "code",
   "execution_count": null,
   "metadata": {},
   "outputs": [],
   "source": [
    "df.describe()"
   ]
  },
  {
   "cell_type": "code",
   "execution_count": null,
   "metadata": {},
   "outputs": [],
   "source": [
    "sns.pairplot(data = df,y_vars=['Price'],x_vars=num_feat)"
   ]
  },
  {
   "cell_type": "markdown",
   "metadata": {},
   "source": [
    "<H4> Plot of Lattitude & longitude showing pricing in each location</H4>\n",
    "Observe that suburbs closer to the city centre generally are more expensive"
   ]
  },
  {
   "cell_type": "code",
   "execution_count": null,
   "metadata": {},
   "outputs": [],
   "source": [
    "plt.scatter(x = df['Longitude'], y = df['Latitude'],c =df['Price'],alpha=0.8,s=df['Price']/50000,cmap='nipy_spectral' )"
   ]
  },
  {
   "cell_type": "markdown",
   "metadata": {},
   "source": [
    "Data Splitting into TRAIN,VALIDATION & TEST DF using Scikit Learn function"
   ]
  },
  {
   "cell_type": "code",
   "execution_count": null,
   "metadata": {},
   "outputs": [],
   "source": [
    "# Let's split the dataset into train, validation, and test sets as Pandas DF format\n",
    "train, test = train_test_split(df, test_size=0.2,random_state=42)\n",
    "train, val = train_test_split(train, test_size=0.2,random_state=42)\n",
    "\n",
    "print(len(train), 'train examples')\n",
    "print(len(val), 'validation examples')\n",
    "print(len(test), 'test examples')"
   ]
  },
  {
   "cell_type": "markdown",
   "metadata": {},
   "source": [
    "Defining a normalization/scaling function to be used for numerical features"
   ]
  },
  {
   "cell_type": "code",
   "execution_count": null,
   "metadata": {},
   "outputs": [],
   "source": [
    "def normalize(df):\n",
    "    result = df.copy()\n",
    "    for feature_name in num_feat:\n",
    "        max_value = df[feature_name].max()\n",
    "        min_value = df[feature_name].min()\n",
    "        result[feature_name] = (df[feature_name] - min_value) / (max_value - min_value)\n",
    "    return result"
   ]
  },
  {
   "cell_type": "markdown",
   "metadata": {},
   "source": [
    "Normalizing the Training Data,Valuation & test Numerical Features"
   ]
  },
  {
   "cell_type": "code",
   "execution_count": null,
   "metadata": {},
   "outputs": [],
   "source": [
    "X_train = normalize(train.drop(['Price'], axis =1))\n",
    "Y_train = train['Price']\n",
    "\n",
    "X_test = normalize(test.drop(['Price'], axis =1))\n",
    "Y_test = test['Price']\n",
    "\n",
    "X_val = normalize(val.drop(['Price'], axis =1))\n",
    "Y_val = val['Price']\n"
   ]
  },
  {
   "cell_type": "markdown",
   "metadata": {},
   "source": [
    "<h3> Defining & Training a Tensorflow Sequential Regression DNN model.</h3>"
   ]
  },
  {
   "cell_type": "code",
   "execution_count": 10,
   "metadata": {},
   "outputs": [
    {
     "name": "stdout",
     "output_type": "stream",
     "text": [
      "1155/1155 [==============================] - 12s 10ms/step - loss: 151630757888.0000 - mse: 151630757888.0000 - val_loss: 164961697792.0000 - val_mse: 164961697792.0000\n",
      "Epoch 50/60\n",
      "1155/1155 [==============================] - 11s 10ms/step - loss: 151409524736.0000 - mse: 151409524736.0000 - val_loss: 165998215168.0000 - val_mse: 165998215168.0000\n",
      "Epoch 51/60\n",
      "1155/1155 [==============================] - 17s 15ms/step - loss: 151225827328.0000 - mse: 151225827328.0000 - val_loss: 164633837568.0000 - val_mse: 164633837568.0000\n",
      "Epoch 52/60\n",
      "1155/1155 [==============================] - 14s 12ms/step - loss: 151045767168.0000 - mse: 151045767168.0000 - val_loss: 166218383360.0000 - val_mse: 166218383360.0000\n",
      "Epoch 53/60\n",
      "1155/1155 [==============================] - 13s 11ms/step - loss: 151006117888.0000 - mse: 151006117888.0000 - val_loss: 166691667968.0000 - val_mse: 166691667968.0000\n",
      "Epoch 54/60\n",
      "1155/1155 [==============================] - 13s 12ms/step - loss: 150736584704.0000 - mse: 150736584704.0000 - val_loss: 165387304960.0000 - val_mse: 165387304960.0000\n",
      "Epoch 55/60\n",
      "1155/1155 [==============================] - 14s 13ms/step - loss: 150571368448.0000 - mse: 150571368448.0000 - val_loss: 164714594304.0000 - val_mse: 164714594304.0000\n",
      "Epoch 56/60\n",
      "1155/1155 [==============================] - 14s 12ms/step - loss: 150470836224.0000 - mse: 150470836224.0000 - val_loss: 168578777088.0000 - val_mse: 168578777088.0000\n",
      "Epoch 57/60\n",
      "1155/1155 [==============================] - 11s 10ms/step - loss: 150227288064.0000 - mse: 150227288064.0000 - val_loss: 164317151232.0000 - val_mse: 164317151232.0000\n",
      "Epoch 58/60\n",
      "1155/1155 [==============================] - 13s 12ms/step - loss: 150075179008.0000 - mse: 150075179008.0000 - val_loss: 164489019392.0000 - val_mse: 164489019392.0000\n",
      "Epoch 59/60\n",
      "1155/1155 [==============================] - 12s 10ms/step - loss: 149980839936.0000 - mse: 149980839936.0000 - val_loss: 164374216704.0000 - val_mse: 164374216704.0000\n",
      "Epoch 60/60\n",
      "1155/1155 [==============================] - 14s 12ms/step - loss: 149863170048.0000 - mse: 149863170048.0000 - val_loss: 166862372864.0000 - val_mse: 166862372864.0000\n"
     ]
    }
   ],
   "source": [
    "# Model create\n",
    "\n",
    "# `tf.keras.Sequential()` groups a linear stack of layers into a tf.keras.Model.\n",
    "model = tf.keras.Sequential([\n",
    "  layers.Dense(256, activation='relu'),\n",
    "  layers.Dense(128, activation='relu'),\n",
    "  layers.Dense(64, activation='relu'),\n",
    "  layers.Dense(1, activation='linear',  name='Price')\n",
    "])\n",
    "\n",
    "# Model compile\n",
    "model.compile(optimizer='adam',\n",
    "              loss='mse',\n",
    "              metrics=['mse'])\n",
    "\n",
    "# Model Fit\n",
    "history = model.fit(X_train, Y_train, validation_data = (X_val, Y_val), epochs=60)\n",
    "\n"
   ]
  },
  {
   "cell_type": "markdown",
   "metadata": {},
   "source": [
    "<h4> Evaluating trained model performance using EVALUATION data </h4>"
   ]
  },
  {
   "cell_type": "code",
   "execution_count": 11,
   "metadata": {},
   "outputs": [
    {
     "name": "stdout",
     "output_type": "stream",
     "text": [
      "289/289 [==============================] - 2s 6ms/step - loss: 166862372864.0000 - mse: 166862372864.0000\n",
      "Mean Squared Error 166862372864.0\n",
      "Root MEAN SQUARE ERROR $ 408487.9103033528\n"
     ]
    }
   ],
   "source": [
    "loss, mse = model.evaluate(X_val,Y_val)\n",
    "print(\"Mean Squared Error\", mse)\n",
    "print(\"Root MEAN SQUARE ERROR $\",np.sqrt(mse))"
   ]
  },
  {
   "cell_type": "markdown",
   "metadata": {},
   "source": [
    "<h4> PLOTTING OF LOSS/MSE for TRAINING & EVALUATION DATA  </h4>\n",
    "Useful to determine underfitting/overfitting as well as optimal number of epcochs for training"
   ]
  },
  {
   "cell_type": "code",
   "execution_count": 12,
   "metadata": {},
   "outputs": [
    {
     "data": {
      "image/png": "[encoded data removed]",
      "text/plain": [
       "<Figure size 720x360 with 2 Axes>"
      ]
     },
     "metadata": {
      "needs_background": "light"
     },
     "output_type": "display_data"
    }
   ],
   "source": [
    "# Use matplotlib to draw the model's loss curves for training and validation\n",
    "def plot_curves(history, metrics):\n",
    "    nrows = 1\n",
    "    ncols = 2\n",
    "    fig = plt.figure(figsize=(10, 5))\n",
    "\n",
    "    for idx, key in enumerate(metrics):  \n",
    "        ax = fig.add_subplot(nrows, ncols, idx+1)\n",
    "        plt.plot(history.history[key])\n",
    "        plt.plot(history.history['val_{}'.format(key)])\n",
    "        plt.title('model {}'.format(key))\n",
    "        plt.ylabel(key)\n",
    "        plt.xlabel('epoch')\n",
    "        plt.legend(['train', 'validation'], loc='upper left');\n",
    "\n",
    "# Plotting\n",
    "plot_curves(history, ['loss', 'mse'])"
   ]
  },
  {
   "cell_type": "markdown",
   "metadata": {},
   "source": [
    "<H3> PREDICTION </H3>\n",
    "<h4>Using TEST data to make PRICE prediction & compare ACTUAL vs PREDICTED</h4>\n",
    " "
   ]
  },
  {
   "cell_type": "code",
   "execution_count": 13,
   "metadata": {},
   "outputs": [
    {
     "name": "stdout",
     "output_type": "stream",
     "text": [
      "361/361 [==============================] - 3s 5ms/step\n",
      "PREDICTION: $1845345.25   ACTUAL: 1320000 DIFFERENCE: $525.34525\n",
      "PREDICTION: $890755.1875   ACTUAL: 896000 DIFFERENCE: $-5.2448125\n",
      "PREDICTION: $403788.375   ACTUAL: 500000 DIFFERENCE: $-96.211625\n",
      "PREDICTION: $1098593.0   ACTUAL: 1300000 DIFFERENCE: $-201.407\n",
      "PREDICTION: $1578838.375   ACTUAL: 1550000 DIFFERENCE: $28.838375\n",
      "PREDICTION: $1103746.875   ACTUAL: 1263000 DIFFERENCE: $-159.253125\n",
      "PREDICTION: $2505583.75   ACTUAL: 1950000 DIFFERENCE: $555.58375\n",
      "PREDICTION: $1327804.75   ACTUAL: 1135000 DIFFERENCE: $192.80475\n",
      "PREDICTION: $2250281.75   ACTUAL: 1947500 DIFFERENCE: $302.78175\n",
      "PREDICTION: $2475424.0   ACTUAL: 2515000 DIFFERENCE: $-39.576\n",
      "PREDICTION: $619387.125   ACTUAL: 615000 DIFFERENCE: $4.387125\n",
      "PREDICTION: $966932.125   ACTUAL: 1275000 DIFFERENCE: $-308.067875\n",
      "PREDICTION: $534621.0   ACTUAL: 500000 DIFFERENCE: $34.621\n",
      "PREDICTION: $442929.90625   ACTUAL: 430000 DIFFERENCE: $12.92990625\n",
      "PREDICTION: $450881.65625   ACTUAL: 425000 DIFFERENCE: $25.88165625\n",
      "PREDICTION: $1057002.375   ACTUAL: 270000 DIFFERENCE: $787.002375\n",
      "PREDICTION: $829484.25   ACTUAL: 715000 DIFFERENCE: $114.48425\n",
      "PREDICTION: $1309960.875   ACTUAL: 981000 DIFFERENCE: $328.960875\n",
      "PREDICTION: $546085.5   ACTUAL: 465000 DIFFERENCE: $81.0855\n",
      "PREDICTION: $725367.125   ACTUAL: 1075000 DIFFERENCE: $-349.632875\n",
      "PREDICTION: $851630.25   ACTUAL: 655000 DIFFERENCE: $196.63025\n",
      "PREDICTION: $1307384.125   ACTUAL: 1000000 DIFFERENCE: $307.384125\n",
      "PREDICTION: $2202628.5   ACTUAL: 1935000 DIFFERENCE: $267.6285\n",
      "PREDICTION: $1722645.375   ACTUAL: 1880000 DIFFERENCE: $-157.354625\n",
      "PREDICTION: $2052018.875   ACTUAL: 1665000 DIFFERENCE: $387.018875\n",
      "PREDICTION: $2510408.0   ACTUAL: 2100000 DIFFERENCE: $410.408\n",
      "PREDICTION: $1160767.875   ACTUAL: 940000 DIFFERENCE: $220.767875\n",
      "PREDICTION: $1974498.5   ACTUAL: 1285000 DIFFERENCE: $689.4985\n",
      "PREDICTION: $2044343.75   ACTUAL: 2105000 DIFFERENCE: $-60.65625\n",
      "PREDICTION: $594917.75   ACTUAL: 590000 DIFFERENCE: $4.91775\n",
      "PREDICTION: $2762000.0   ACTUAL: 2320000 DIFFERENCE: $442.0\n",
      "PREDICTION: $706643.75   ACTUAL: 1275000 DIFFERENCE: $-568.35625\n",
      "PREDICTION: $1008682.25   ACTUAL: 1150000 DIFFERENCE: $-141.31775\n",
      "PREDICTION: $781541.5625   ACTUAL: 805000 DIFFERENCE: $-23.4584375\n",
      "PREDICTION: $623617.5625   ACTUAL: 587000 DIFFERENCE: $36.6175625\n",
      "PREDICTION: $2695530.0   ACTUAL: 2182000 DIFFERENCE: $513.53\n",
      "PREDICTION: $1813986.375   ACTUAL: 1150000 DIFFERENCE: $663.986375\n",
      "PREDICTION: $1974507.125   ACTUAL: 2800000 DIFFERENCE: $-825.492875\n",
      "PREDICTION: $1860910.5   ACTUAL: 1395000 DIFFERENCE: $465.9105\n",
      "PREDICTION: $2708388.75   ACTUAL: 2100000 DIFFERENCE: $608.38875\n",
      "PREDICTION: $1434536.375   ACTUAL: 1368888 DIFFERENCE: $65.648375\n",
      "PREDICTION: $517316.625   ACTUAL: 595000 DIFFERENCE: $-77.683375\n",
      "PREDICTION: $383399.28125   ACTUAL: 430000 DIFFERENCE: $-46.60071875\n",
      "PREDICTION: $1623988.375   ACTUAL: 1504000 DIFFERENCE: $119.988375\n",
      "PREDICTION: $577747.75   ACTUAL: 617500 DIFFERENCE: $-39.75225\n",
      "PREDICTION: $1268229.125   ACTUAL: 1150000 DIFFERENCE: $118.229125\n",
      "PREDICTION: $1946580.625   ACTUAL: 2050000 DIFFERENCE: $-103.419375\n",
      "PREDICTION: $711846.8125   ACTUAL: 420000 DIFFERENCE: $291.8468125\n",
      "PREDICTION: $655648.125   ACTUAL: 472500 DIFFERENCE: $183.148125\n",
      "PREDICTION: $595837.5625   ACTUAL: 500000 DIFFERENCE: $95.8375625\n"
     ]
    },
    {
     "data": {
      "text/plain": [
       "Text(0, 0.5, 'PREDICATED PRICE: $')"
      ]
     },
     "execution_count": 13,
     "metadata": {},
     "output_type": "execute_result"
    },
    {
     "data": {
      "image/png": "[encoded data removed]",
      "text/plain": [
       "<Figure size 432x288 with 1 Axes>"
      ]
     },
     "metadata": {
      "needs_background": "light"
     },
     "output_type": "display_data"
    }
   ],
   "source": [
    "predictions = model.predict(X_test)\n",
    "\n",
    "#\n",
    "for i in range(50):\n",
    "    diff = (predictions[i][0] - test['Price'].iloc[i])/1000\n",
    "    print('PREDICTION: ${0}'.format(predictions[i][0]) + '   ACTUAL: '+format(test['Price'].iloc[i]) + f' DIFFERENCE: ${diff}')\n",
    "\n",
    "\n",
    "\n",
    "plt.scatter(Y_test.iloc[0:2000],predictions[0:2000])\n",
    "plt.title(\"ACTUAL VS PREDICTED PRICE\")\n",
    "plt.xlabel(\"ACTUAL PRICE: $\")\n",
    "plt.ylabel(\"PREDICATED PRICE: $\")"
   ]
  },
  {
   "cell_type": "markdown",
   "metadata": {},
   "source": [
    "<h5> SAVE MODEL </h5>"
   ]
  },
  {
   "cell_type": "code",
   "execution_count": 6,
   "metadata": {},
   "outputs": [
    {
     "ename": "NameError",
     "evalue": "name 'model' is not defined",
     "output_type": "error",
     "traceback": [
      "\u001b[0;31m---------------------------------------------------------------------------\u001b[0m",
      "\u001b[0;31mNameError\u001b[0m                                 Traceback (most recent call last)",
      "\u001b[1;32m/home/khaled/ML/Real-Estate-Price-Estimate/Price Estimator.ipynb Cell 34\u001b[0m in \u001b[0;36m<cell line: 1>\u001b[0;34m()\u001b[0m\n\u001b[0;32m----> <a href='vscode-notebook-cell://wsl%2Bubuntu-20.04/home/khaled/ML/Real-Estate-Price-Estimate/Price%20Estimator.ipynb#ch0000033vscode-remote?line=0'>1</a>\u001b[0m model\u001b[39m.\u001b[39msave(\u001b[39m\"\u001b[39m\u001b[39mmodels/2\u001b[39m\u001b[39m\"\u001b[39m)\n",
      "\u001b[0;31mNameError\u001b[0m: name 'model' is not defined"
     ]
    }
   ],
   "source": [
    "model.save(\"models/1\")"
   ]
  },
  {
   "cell_type": "markdown",
   "metadata": {},
   "source": [
    "<h4> SERVE MODEL</h4>\n",
    "<h5> RUN TF SERVING DOCKER CONTAINER </h5>"
   ]
  },
  {
   "cell_type": "code",
   "execution_count": 5,
   "metadata": {},
   "outputs": [
    {
     "name": "stdout",
     "output_type": "stream",
     "text": [
      "ExecResult(exit_code=0, output=b'bin\\nboot\\ndev\\netc\\nhome\\nlib\\nlib64\\nmedia\\nmnt\\nmodels\\nopt\\nproc\\nroot\\nrun\\nsbin\\nsrv\\nsys\\ntf_serving\\ntmp\\nusr\\nvar\\n')\n"
     ]
    },
    {
     "data": {
      "text/plain": [
       "ExecResult(exit_code=None, output='')"
      ]
     },
     "execution_count": 5,
     "metadata": {},
     "output_type": "execute_result"
    }
   ],
   "source": [
    "#docker run -it -v /home/khaled/AUTOMATION-EXCEL\\:/tf_serving -p 8601:8601 --entrypoint /bin/bash tensorflow/serving\n",
    "#tensorflow_model_server --rest_api_port=8601 --model_name=melb_price --model_base_path=/tf_serving/saved_models/\n",
    "\n",
    "client = docker.from_env()\n",
    "container = client.containers.run(image = \"tensorflow/serving\", ports = {8601:8601},volumes = ['/home/khaled/ML/Real-Estate-Price-Estimate:/tf_serving'], detach=True)\n",
    "container.exec_run('/bin/bash')\n",
    "print(container.exec_run('ls'))\n",
    "container.exec_run('tensorflow_model_server --rest_api_port=8601 --model_name=real_estate_price_est --model_base_path=/tf_serving/models/',detach = True)"
   ]
  },
  {
   "cell_type": "code",
   "execution_count": null,
   "metadata": {},
   "outputs": [],
   "source": [
    "input = X_test.to_numpy().tolist()[0:1]\n",
    "\n",
    "data = {\"instances\": input}\n",
    "test.head(10)"
   ]
  },
  {
   "cell_type": "markdown",
   "metadata": {},
   "source": [
    "<h4> API CALL FOR PREDICTION</h4>\n",
    "<h5>  REST API POST</h5>"
   ]
  },
  {
   "cell_type": "code",
   "execution_count": null,
   "metadata": {},
   "outputs": [],
   "source": [
    "#%%bash\n",
    "#curl -d '{\"instances\": [[0.25,0.07553956834532373,0.0,0.25,0.0,0.1937046004842615,0.9103448275862069,0.516068393160683,0.4633053471477789,1.0]]}' \\\n",
    "#-X POST http://localhost:8601/v1/models/melb_price:predict\n",
    "\n",
    "r = requests.post(url=\"http://localhost:8601/v1/models/real_estate_price_est:predict\", data=json.dumps(data))\n",
    "print(r.json())"
   ]
  }
 ],
 "metadata": {
  "kernelspec": {
   "display_name": "Python 3.8.10 64-bit",
   "language": "python",
   "name": "python3"
  },
  "language_info": {
   "codemirror_mode": {
    "name": "ipython",
    "version": 3
   },
   "file_extension": ".py",
   "mimetype": "text/x-python",
   "name": "python",
   "nbconvert_exporter": "python",
   "pygments_lexer": "ipython3",
   "version": "3.8.10"
  },
  "orig_nbformat": 4,
  "vscode": {
   "interpreter": {
    "hash": "916dbcbb3f70747c44a77c7bcd40155683ae19c65e1c03b4aa3499c5328201f1"
   }
  }
 },
 "nbformat": 4,
 "nbformat_minor": 2
}
